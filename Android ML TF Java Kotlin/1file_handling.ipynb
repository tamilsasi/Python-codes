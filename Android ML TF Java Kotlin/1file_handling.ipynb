{
 "metadata": {
  "language_info": {
   "codemirror_mode": {
    "name": "ipython",
    "version": 3
   },
   "file_extension": ".py",
   "mimetype": "text/x-python",
   "name": "python",
   "nbconvert_exporter": "python",
   "pygments_lexer": "ipython3",
   "version": "3.6.6"
  },
  "orig_nbformat": 4,
  "kernelspec": {
   "name": "python3",
   "display_name": "Python 3.6.6 64-bit ('tensor': venv)"
  },
  "interpreter": {
   "hash": "c16e1179274dcac2bb28be77cc0fcc94b4d06b2e3d310e70c5194249f9238ffe"
  }
 },
 "nbformat": 4,
 "nbformat_minor": 2,
 "cells": [
  {
   "cell_type": "code",
   "execution_count": 6,
   "metadata": {},
   "outputs": [],
   "source": [
    "f = open(\"example1.txt\",\"w\")\n",
    "f.write(\"Hello Tamil\")\n",
    "f.close()"
   ]
  },
  {
   "cell_type": "code",
   "execution_count": 8,
   "metadata": {},
   "outputs": [
    {
     "output_type": "stream",
     "name": "stdout",
     "text": [
      "Hello Tamil\n"
     ]
    }
   ],
   "source": [
    "p = open(\"example1.txt\",\"r\")\n",
    "print(p.read())"
   ]
  },
  {
   "cell_type": "code",
   "execution_count": 19,
   "metadata": {},
   "outputs": [
    {
     "output_type": "stream",
     "name": "stdout",
     "text": [
      "\n"
     ]
    }
   ],
   "source": [
    "print(p.read())\n",
    "p.close()"
   ]
  },
  {
   "cell_type": "code",
   "execution_count": 16,
   "metadata": {},
   "outputs": [],
   "source": [
    "import os"
   ]
  },
  {
   "cell_type": "code",
   "execution_count": 21,
   "metadata": {},
   "outputs": [
    {
     "output_type": "stream",
     "name": "stdout",
     "text": [
      "The file does not exist\n"
     ]
    }
   ],
   "source": [
    "if os.path.exists(\"example1.txt\"):\n",
    "    os.remove(\"example1.txt\")\n",
    "    print(\"File Removed\")\n",
    "else:\n",
    "    print(\"The file does not exist\")"
   ]
  }
 ]
}