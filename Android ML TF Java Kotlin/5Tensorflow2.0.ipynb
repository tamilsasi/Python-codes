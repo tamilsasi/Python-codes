{
 "metadata": {
  "language_info": {
   "codemirror_mode": {
    "name": "ipython",
    "version": 3
   },
   "file_extension": ".py",
   "mimetype": "text/x-python",
   "name": "python",
   "nbconvert_exporter": "python",
   "pygments_lexer": "ipython3",
   "version": "3.6.6"
  },
  "orig_nbformat": 4,
  "kernelspec": {
   "name": "python3",
   "display_name": "Python 3.6.6 64-bit ('tensor': venv)"
  },
  "interpreter": {
   "hash": "c16e1179274dcac2bb28be77cc0fcc94b4d06b2e3d310e70c5194249f9238ffe"
  }
 },
 "nbformat": 4,
 "nbformat_minor": 2,
 "cells": [
  {
   "cell_type": "code",
   "execution_count": 2,
   "metadata": {},
   "outputs": [
    {
     "output_type": "stream",
     "name": "stdout",
     "text": [
      "2.0.0\n"
     ]
    }
   ],
   "source": [
    "import tensorflow as tf \n",
    "print(tf.__version__)"
   ]
  },
  {
   "cell_type": "code",
   "execution_count": 9,
   "metadata": {},
   "outputs": [
    {
     "output_type": "stream",
     "name": "stdout",
     "text": [
      "33\n<tf.Variable 'Variable:0' shape=() dtype=int32, numpy=54>\n<tf.Variable 'Variable:0' shape=(2,) dtype=int32, numpy=array([1, 2])>\n<tf.Variable 'Variable:0' shape=(2,) dtype=int32, numpy=array([3, 2])>\n"
     ]
    }
   ],
   "source": [
    "# Declaring Eager vriable\n",
    "v0 = 33\n",
    "v1 = tf.Variable(54)\n",
    "v2 = tf.Variable([1,2])\n",
    "v3 = tf.Variable([3,2],[6,7])\n",
    "\n",
    "print(v0)\n",
    "print(v1)\n",
    "print(v2)\n",
    "print(v3)"
   ]
  },
  {
   "cell_type": "code",
   "execution_count": 7,
   "metadata": {},
   "outputs": [
    {
     "output_type": "execute_result",
     "data": {
      "text/plain": [
       "<tf.Variable 'UnreadVariable' shape=() dtype=int32, numpy=21>"
      ]
     },
     "metadata": {},
     "execution_count": 7
    }
   ],
   "source": [
    "# Reassign\n",
    "v1.assign(21)"
   ]
  },
  {
   "cell_type": "code",
   "execution_count": 10,
   "metadata": {},
   "outputs": [
    {
     "output_type": "stream",
     "name": "stdout",
     "text": [
      "tf.Tensor(36, shape=(), dtype=int32) \n tf.Tensor(62.0, shape=(), dtype=float64)\n"
     ]
    }
   ],
   "source": [
    "# Declaring Tensorflow constants\n",
    "c1 = tf.constant(36)\n",
    "c2 = tf.constant(62, dtype=tf.float64)\n",
    "\n",
    "print(c1,\"\\n\",c2)"
   ]
  },
  {
   "cell_type": "code",
   "execution_count": 19,
   "metadata": {},
   "outputs": [
    {
     "output_type": "execute_result",
     "data": {
      "text/plain": [
       "TensorShape([2, 3])"
      ]
     },
     "metadata": {},
     "execution_count": 19
    }
   ],
   "source": [
    "# shaping tensors\n",
    "t1 = tf.Variable([[3,4,2],[6,1,9]])\n",
    "t1.shape"
   ]
  },
  {
   "cell_type": "code",
   "execution_count": 20,
   "metadata": {},
   "outputs": [
    {
     "output_type": "execute_result",
     "data": {
      "text/plain": [
       "TensorShape([1, 6])"
      ]
     },
     "metadata": {},
     "execution_count": 20
    }
   ],
   "source": [
    "t2 = tf.reshape(t1, [1,6])\n",
    "t2.shape"
   ]
  },
  {
   "cell_type": "code",
   "execution_count": 21,
   "metadata": {},
   "outputs": [
    {
     "output_type": "execute_result",
     "data": {
      "text/plain": [
       "<tf.Tensor: id=186, shape=(), dtype=int32, numpy=2>"
      ]
     },
     "metadata": {},
     "execution_count": 21
    }
   ],
   "source": [
    "# Ranking(diemnsions) of a tensors\n",
    "tf.rank(t1)"
   ]
  },
  {
   "cell_type": "code",
   "execution_count": 23,
   "metadata": {},
   "outputs": [
    {
     "output_type": "execute_result",
     "data": {
      "text/plain": [
       "<tf.Tensor: id=194, shape=(), dtype=int32, numpy=4>"
      ]
     },
     "metadata": {},
     "execution_count": 23
    }
   ],
   "source": [
    "# specifying and element of a tensor\n",
    "t3 = t2[0,1]\n",
    "t3"
   ]
  },
  {
   "cell_type": "code",
   "execution_count": 24,
   "metadata": {},
   "outputs": [
    {
     "output_type": "execute_result",
     "data": {
      "text/plain": [
       "4"
      ]
     },
     "metadata": {},
     "execution_count": 24
    }
   ],
   "source": [
    "# casting tensor to  numpy\n",
    "t3.numpy()"
   ]
  },
  {
   "cell_type": "code",
   "execution_count": 27,
   "metadata": {},
   "outputs": [
    {
     "output_type": "execute_result",
     "data": {
      "text/plain": [
       "6"
      ]
     },
     "metadata": {},
     "execution_count": 27
    }
   ],
   "source": [
    "# finding the number of element in tensor\n",
    "tf.size(input=t2).numpy()\n"
   ]
  },
  {
   "cell_type": "code",
   "execution_count": 28,
   "metadata": {},
   "outputs": [
    {
     "output_type": "execute_result",
     "data": {
      "text/plain": [
       "tf.int32"
      ]
     },
     "metadata": {},
     "execution_count": 28
    }
   ],
   "source": [
    "# finding data typr\n",
    "t3.dtype"
   ]
  },
  {
   "cell_type": "code",
   "execution_count": 43,
   "metadata": {},
   "outputs": [
    {
     "output_type": "execute_result",
     "data": {
      "text/plain": [
       "array([4, 9])"
      ]
     },
     "metadata": {},
     "execution_count": 43
    }
   ],
   "source": [
    "# operator\n",
    "a1 = tf.Variable([1,3])\n",
    "a2 = tf.Variable([3,6])\n",
    "\n",
    "(a1+a2).numpy()"
   ]
  },
  {
   "cell_type": "code",
   "execution_count": 38,
   "metadata": {},
   "outputs": [
    {
     "output_type": "execute_result",
     "data": {
      "text/plain": [
       "array([[38, 34],\n",
       "       [22, 31]])"
      ]
     },
     "metadata": {},
     "execution_count": 38
    }
   ],
   "source": [
    "# matrix\n",
    "c3 = tf.constant([[2,4],[3,1]])\n",
    "c4 = tf.constant([[5,9],[7,4]])\n",
    "tf.matmul(c3,c4).numpy()"
   ]
  },
  {
   "cell_type": "code",
   "execution_count": 41,
   "metadata": {},
   "outputs": [
    {
     "output_type": "execute_result",
     "data": {
      "text/plain": [
       "<tf.Tensor: id=312, shape=(2, 2), dtype=float64, numpy=\n",
       "array([[2., 4.],\n",
       "       [3., 1.]])>"
      ]
     },
     "metadata": {},
     "execution_count": 41
    }
   ],
   "source": [
    "# type casting\n",
    "c5 = tf.cast(c3, dtype=tf.float64)\n",
    "c5"
   ]
  },
  {
   "cell_type": "code",
   "execution_count": 42,
   "metadata": {},
   "outputs": [
    {
     "output_type": "execute_result",
     "data": {
      "text/plain": [
       "<tf.RaggedTensor [[1], [], [3, 6, 1], [7, 8]]>"
      ]
     },
     "metadata": {},
     "execution_count": 42
    }
   ],
   "source": [
    "# declaring ragged tensors\n",
    "rag = tf.ragged.constant([[1],[],[3,6,1],[7,8]])\n",
    "rag"
   ]
  },
  {
   "cell_type": "code",
   "execution_count": 47,
   "metadata": {},
   "outputs": [
    {
     "output_type": "execute_result",
     "data": {
      "text/plain": [
       "array([1, 4])"
      ]
     },
     "metadata": {},
     "execution_count": 47
    }
   ],
   "source": [
    "# tensorflow operation\n",
    "v1 = tf.Variable([3,4])\n",
    "v2 = tf.Variable([2,2])\n",
    "tf.math.squared_difference(v1, v2, name=None).numpy()"
   ]
  },
  {
   "cell_type": "code",
   "execution_count": 48,
   "metadata": {},
   "outputs": [
    {
     "output_type": "execute_result",
     "data": {
      "text/plain": [
       "<tf.Tensor: id=431, shape=(), dtype=int32, numpy=3>"
      ]
     },
     "metadata": {},
     "execution_count": 48
    }
   ],
   "source": [
    "tf.reduce_mean(v1)"
   ]
  },
  {
   "cell_type": "code",
   "execution_count": 50,
   "metadata": {},
   "outputs": [
    {
     "output_type": "execute_result",
     "data": {
      "text/plain": [
       "<tf.Tensor: id=434, shape=(), dtype=int32, numpy=2>"
      ]
     },
     "metadata": {},
     "execution_count": 50
    }
   ],
   "source": [
    "tf.reduce_mean(v3, axis=0)"
   ]
  },
  {
   "cell_type": "code",
   "execution_count": 52,
   "metadata": {},
   "outputs": [
    {
     "output_type": "execute_result",
     "data": {
      "text/plain": [
       "<tf.Tensor: id=440, shape=(3, 2), dtype=float32, numpy=\n",
       "array([[ 7.721836,  7.927163],\n",
       "       [13.472234,  8.81576 ],\n",
       "       [ 9.764047,  9.598276]], dtype=float32)>"
      ]
     },
     "metadata": {},
     "execution_count": 52
    }
   ],
   "source": [
    "# generating tensors with random values\n",
    "tf.random.normal(shape=(3,2), mean=10, stddev=2, dtype=tf.float32)\n"
   ]
  },
  {
   "cell_type": "code",
   "execution_count": 53,
   "metadata": {},
   "outputs": [
    {
     "output_type": "execute_result",
     "data": {
      "text/plain": [
       "<tf.Tensor: id=444, shape=(3, 2), dtype=int32, numpy=\n",
       "array([[3, 4],\n",
       "       [4, 2],\n",
       "       [0, 1]])>"
      ]
     },
     "metadata": {},
     "execution_count": 53
    }
   ],
   "source": [
    "tf.random.uniform(shape=(3,2), minval=0, maxval=5, dtype=tf.int32)"
   ]
  },
  {
   "cell_type": "code",
   "execution_count": 55,
   "metadata": {},
   "outputs": [
    {
     "output_type": "execute_result",
     "data": {
      "text/plain": [
       "<tf.Tensor: id=458, shape=(3, 3), dtype=float32, numpy=\n",
       "array([[1.3675804 , 0.43453074, 1.5543015 ],\n",
       "       [1.6157205 , 5.9757886 , 1.3171234 ],\n",
       "       [1.1493652 , 4.5679765 , 5.349658  ]], dtype=float32)>"
      ]
     },
     "metadata": {},
     "execution_count": 55
    }
   ],
   "source": [
    "tf.random.set_seed(111)\n",
    "tf.random.uniform(shape=(3,3), maxval=6)"
   ]
  },
  {
   "cell_type": "code",
   "execution_count": 57,
   "metadata": {},
   "outputs": [
    {
     "output_type": "execute_result",
     "data": {
      "text/plain": [
       "<tf.Tensor: id=472, shape=(4,), dtype=int32, numpy=array([3, 4, 2, 2])>"
      ]
     },
     "metadata": {},
     "execution_count": 57
    }
   ],
   "source": [
    "# concatenate two tensors\n",
    "b1 = tf.concat(values=[v1,v2], axis=0)\n",
    "b1"
   ]
  },
  {
   "cell_type": "code",
   "execution_count": 64,
   "metadata": {},
   "outputs": [
    {
     "output_type": "execute_result",
     "data": {
      "text/plain": [
       "1"
      ]
     },
     "metadata": {},
     "execution_count": 64
    }
   ],
   "source": [
    "# min max \n",
    "tf.argmax(input=b1).numpy()\n",
    "# it given only index value"
   ]
  },
  {
   "cell_type": "code",
   "execution_count": 65,
   "metadata": {},
   "outputs": [
    {
     "output_type": "execute_result",
     "data": {
      "text/plain": [
       "<tf.Tensor: id=486, shape=(), dtype=int64, numpy=2>"
      ]
     },
     "metadata": {},
     "execution_count": 65
    }
   ],
   "source": [
    "tf.argmin(input=b1)"
   ]
  },
  {
   "cell_type": "code",
   "execution_count": 67,
   "metadata": {},
   "outputs": [
    {
     "output_type": "execute_result",
     "data": {
      "text/plain": [
       "'./myvariable-1'"
      ]
     },
     "metadata": {},
     "execution_count": 67
    }
   ],
   "source": [
    "#saving and restoring tensor values using a checkpoint\n",
    "\n",
    "q1 = tf.Variable([[3,3],[4,1]])\n",
    "check = tf.train.Checkpoint(var=q1)\n",
    "save_path = check.save('./myvariable')\n",
    "save_path"
   ]
  },
  {
   "cell_type": "code",
   "execution_count": 68,
   "metadata": {},
   "outputs": [
    {
     "output_type": "execute_result",
     "data": {
      "text/plain": [
       "<tf.Variable 'Variable:0' shape=(2, 2) dtype=int32, numpy=\n",
       "array([[0, 0],\n",
       "       [0, 0]])>"
      ]
     },
     "metadata": {},
     "execution_count": 68
    }
   ],
   "source": [
    "q1.assign([[0,0],[0,0]])\n",
    "q1"
   ]
  },
  {
   "cell_type": "code",
   "execution_count": 71,
   "metadata": {},
   "outputs": [
    {
     "output_type": "execute_result",
     "data": {
      "text/plain": [
       "<tf.Variable 'Variable:0' shape=(2, 2) dtype=int32, numpy=\n",
       "array([[3, 3],\n",
       "       [4, 1]])>"
      ]
     },
     "metadata": {},
     "execution_count": 71
    }
   ],
   "source": [
    "check.restore(save_path)\n",
    "q1"
   ]
  }
 ]
}