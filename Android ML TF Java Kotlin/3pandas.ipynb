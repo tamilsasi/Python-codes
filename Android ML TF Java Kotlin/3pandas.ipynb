{
 "metadata": {
  "language_info": {
   "codemirror_mode": {
    "name": "ipython",
    "version": 3
   },
   "file_extension": ".py",
   "mimetype": "text/x-python",
   "name": "python",
   "nbconvert_exporter": "python",
   "pygments_lexer": "ipython3",
   "version": "3.6.6"
  },
  "orig_nbformat": 4,
  "kernelspec": {
   "name": "python3",
   "display_name": "Python 3.6.6 64-bit ('tensor': venv)"
  },
  "interpreter": {
   "hash": "c16e1179274dcac2bb28be77cc0fcc94b4d06b2e3d310e70c5194249f9238ffe"
  }
 },
 "nbformat": 4,
 "nbformat_minor": 2,
 "cells": [
  {
   "cell_type": "code",
   "execution_count": 4,
   "metadata": {},
   "outputs": [],
   "source": [
    "import pandas as pd"
   ]
  },
  {
   "cell_type": "code",
   "execution_count": 9,
   "metadata": {},
   "outputs": [
    {
     "output_type": "execute_result",
     "data": {
      "text/plain": [
       "    0\n",
       "0  12\n",
       "1  23\n",
       "2  54"
      ],
      "text/html": "<div>\n<style scoped>\n    .dataframe tbody tr th:only-of-type {\n        vertical-align: middle;\n    }\n\n    .dataframe tbody tr th {\n        vertical-align: top;\n    }\n\n    .dataframe thead th {\n        text-align: right;\n    }\n</style>\n<table border=\"1\" class=\"dataframe\">\n  <thead>\n    <tr style=\"text-align: right;\">\n      <th></th>\n      <th>0</th>\n    </tr>\n  </thead>\n  <tbody>\n    <tr>\n      <th>0</th>\n      <td>12</td>\n    </tr>\n    <tr>\n      <th>1</th>\n      <td>23</td>\n    </tr>\n    <tr>\n      <th>2</th>\n      <td>54</td>\n    </tr>\n  </tbody>\n</table>\n</div>"
     },
     "metadata": {},
     "execution_count": 9
    }
   ],
   "source": [
    "data = [12,23,54]\n",
    "df = pd.DataFrame(data)\n",
    "df"
   ]
  },
  {
   "cell_type": "code",
   "execution_count": 11,
   "metadata": {},
   "outputs": [
    {
     "output_type": "execute_result",
     "data": {
      "text/plain": [
       "    Name  Age\n",
       "0  Tamil   21\n",
       "1   Sasi    7"
      ],
      "text/html": "<div>\n<style scoped>\n    .dataframe tbody tr th:only-of-type {\n        vertical-align: middle;\n    }\n\n    .dataframe tbody tr th {\n        vertical-align: top;\n    }\n\n    .dataframe thead th {\n        text-align: right;\n    }\n</style>\n<table border=\"1\" class=\"dataframe\">\n  <thead>\n    <tr style=\"text-align: right;\">\n      <th></th>\n      <th>Name</th>\n      <th>Age</th>\n    </tr>\n  </thead>\n  <tbody>\n    <tr>\n      <th>0</th>\n      <td>Tamil</td>\n      <td>21</td>\n    </tr>\n    <tr>\n      <th>1</th>\n      <td>Sasi</td>\n      <td>7</td>\n    </tr>\n  </tbody>\n</table>\n</div>"
     },
     "metadata": {},
     "execution_count": 11
    }
   ],
   "source": [
    "# dictionar to DataFrame\n",
    "dd = {'Name':[\"Tamil\", \"Sasi\"], 'Age':[21,7]}\n",
    "df1 = pd.DataFrame(dd)\n",
    "df1"
   ]
  },
  {
   "cell_type": "code",
   "execution_count": 13,
   "metadata": {},
   "outputs": [
    {
     "output_type": "execute_result",
     "data": {
      "text/plain": [
       "               Date  Delhi  Kolkata  Mumbai  Chennai\n",
       "0     April 19 2018  74.07    76.77   81.92    76.84\n",
       "1     April 18 2018  74.02    76.73   81.87    76.79\n",
       "2     April 17 2018  74.02    76.73   81.87    76.79\n",
       "3     April 16 2018  74.02    76.73   81.87    76.79\n",
       "4     April 15 2018  73.98    76.69   81.83    76.75\n",
       "..              ...    ...      ...     ...      ...\n",
       "369  August 01 2014  72.51    80.30   80.60    75.78\n",
       "370    July 01 2014  73.60    81.43   81.75    76.93\n",
       "371    June 25 2014  71.56    79.42   80.16    74.76\n",
       "372    June 07 2014  71.51    79.36   80.11    74.71\n",
       "373    June 01 2014  71.51    79.36   80.11    74.71\n",
       "\n",
       "[374 rows x 5 columns]"
      ],
      "text/html": "<div>\n<style scoped>\n    .dataframe tbody tr th:only-of-type {\n        vertical-align: middle;\n    }\n\n    .dataframe tbody tr th {\n        vertical-align: top;\n    }\n\n    .dataframe thead th {\n        text-align: right;\n    }\n</style>\n<table border=\"1\" class=\"dataframe\">\n  <thead>\n    <tr style=\"text-align: right;\">\n      <th></th>\n      <th>Date</th>\n      <th>Delhi</th>\n      <th>Kolkata</th>\n      <th>Mumbai</th>\n      <th>Chennai</th>\n    </tr>\n  </thead>\n  <tbody>\n    <tr>\n      <th>0</th>\n      <td>April 19 2018</td>\n      <td>74.07</td>\n      <td>76.77</td>\n      <td>81.92</td>\n      <td>76.84</td>\n    </tr>\n    <tr>\n      <th>1</th>\n      <td>April 18 2018</td>\n      <td>74.02</td>\n      <td>76.73</td>\n      <td>81.87</td>\n      <td>76.79</td>\n    </tr>\n    <tr>\n      <th>2</th>\n      <td>April 17 2018</td>\n      <td>74.02</td>\n      <td>76.73</td>\n      <td>81.87</td>\n      <td>76.79</td>\n    </tr>\n    <tr>\n      <th>3</th>\n      <td>April 16 2018</td>\n      <td>74.02</td>\n      <td>76.73</td>\n      <td>81.87</td>\n      <td>76.79</td>\n    </tr>\n    <tr>\n      <th>4</th>\n      <td>April 15 2018</td>\n      <td>73.98</td>\n      <td>76.69</td>\n      <td>81.83</td>\n      <td>76.75</td>\n    </tr>\n    <tr>\n      <th>...</th>\n      <td>...</td>\n      <td>...</td>\n      <td>...</td>\n      <td>...</td>\n      <td>...</td>\n    </tr>\n    <tr>\n      <th>369</th>\n      <td>August 01 2014</td>\n      <td>72.51</td>\n      <td>80.30</td>\n      <td>80.60</td>\n      <td>75.78</td>\n    </tr>\n    <tr>\n      <th>370</th>\n      <td>July 01 2014</td>\n      <td>73.60</td>\n      <td>81.43</td>\n      <td>81.75</td>\n      <td>76.93</td>\n    </tr>\n    <tr>\n      <th>371</th>\n      <td>June 25 2014</td>\n      <td>71.56</td>\n      <td>79.42</td>\n      <td>80.16</td>\n      <td>74.76</td>\n    </tr>\n    <tr>\n      <th>372</th>\n      <td>June 07 2014</td>\n      <td>71.51</td>\n      <td>79.36</td>\n      <td>80.11</td>\n      <td>74.71</td>\n    </tr>\n    <tr>\n      <th>373</th>\n      <td>June 01 2014</td>\n      <td>71.51</td>\n      <td>79.36</td>\n      <td>80.11</td>\n      <td>74.71</td>\n    </tr>\n  </tbody>\n</table>\n<p>374 rows × 5 columns</p>\n</div>"
     },
     "metadata": {},
     "execution_count": 13
    }
   ],
   "source": [
    "# Reading CSV File\n",
    "df2 = pd.read_csv(\"petrol.csv\")\n",
    "df2"
   ]
  },
  {
   "cell_type": "code",
   "execution_count": 14,
   "metadata": {},
   "outputs": [
    {
     "output_type": "execute_result",
     "data": {
      "text/plain": [
       "          Name  Age\n",
       "0  Tamilselvan   21\n",
       "1     Saikumar    7\n",
       "2        Kavin   21\n",
       "3        Aathi   21"
      ],
      "text/html": "<div>\n<style scoped>\n    .dataframe tbody tr th:only-of-type {\n        vertical-align: middle;\n    }\n\n    .dataframe tbody tr th {\n        vertical-align: top;\n    }\n\n    .dataframe thead th {\n        text-align: right;\n    }\n</style>\n<table border=\"1\" class=\"dataframe\">\n  <thead>\n    <tr style=\"text-align: right;\">\n      <th></th>\n      <th>Name</th>\n      <th>Age</th>\n    </tr>\n  </thead>\n  <tbody>\n    <tr>\n      <th>0</th>\n      <td>Tamilselvan</td>\n      <td>21</td>\n    </tr>\n    <tr>\n      <th>1</th>\n      <td>Saikumar</td>\n      <td>7</td>\n    </tr>\n    <tr>\n      <th>2</th>\n      <td>Kavin</td>\n      <td>21</td>\n    </tr>\n    <tr>\n      <th>3</th>\n      <td>Aathi</td>\n      <td>21</td>\n    </tr>\n  </tbody>\n</table>\n</div>"
     },
     "metadata": {},
     "execution_count": 14
    }
   ],
   "source": [
    "df3 = pd.read_table(\"new.txt\", sep=\" \")\n",
    "df3"
   ]
  },
  {
   "cell_type": "code",
   "execution_count": 15,
   "metadata": {},
   "outputs": [],
   "source": [
    "import numpy as np\n"
   ]
  },
  {
   "cell_type": "code",
   "execution_count": 17,
   "metadata": {},
   "outputs": [
    {
     "output_type": "execute_result",
     "data": {
      "text/plain": [
       "    Name   Age\n",
       "0  vijay  33.0\n",
       "1  surya   NaN\n",
       "2    NaN  32.0"
      ],
      "text/html": "<div>\n<style scoped>\n    .dataframe tbody tr th:only-of-type {\n        vertical-align: middle;\n    }\n\n    .dataframe tbody tr th {\n        vertical-align: top;\n    }\n\n    .dataframe thead th {\n        text-align: right;\n    }\n</style>\n<table border=\"1\" class=\"dataframe\">\n  <thead>\n    <tr style=\"text-align: right;\">\n      <th></th>\n      <th>Name</th>\n      <th>Age</th>\n    </tr>\n  </thead>\n  <tbody>\n    <tr>\n      <th>0</th>\n      <td>vijay</td>\n      <td>33.0</td>\n    </tr>\n    <tr>\n      <th>1</th>\n      <td>surya</td>\n      <td>NaN</td>\n    </tr>\n    <tr>\n      <th>2</th>\n      <td>NaN</td>\n      <td>32.0</td>\n    </tr>\n  </tbody>\n</table>\n</div>"
     },
     "metadata": {},
     "execution_count": 17
    }
   ],
   "source": [
    "dic = {'Name':[\"vijay\", \"surya\", np.nan], \"Age\":[33,np.nan,32]}\n",
    "df4 = pd.DataFrame(dic)\n",
    "df4"
   ]
  },
  {
   "cell_type": "code",
   "execution_count": 21,
   "metadata": {},
   "outputs": [
    {
     "output_type": "stream",
     "name": "stdout",
     "text": [
      "    Name    Age\n",
      "0  False  False\n",
      "1  False   True\n",
      "2   True  False\n",
      "    Name   Age\n",
      "0  vijay  33.0\n",
      "1  surya   0.0\n",
      "2      0  32.0\n",
      "(3, 2)\n",
      "    Name   Age\n",
      "0  vijay  33.0\n"
     ]
    }
   ],
   "source": [
    "print(df4.isnull())\n",
    "print(df4.fillna(0))\n",
    "print(df4.shape)\n",
    "print(df4.dropna())"
   ]
  }
 ]
}