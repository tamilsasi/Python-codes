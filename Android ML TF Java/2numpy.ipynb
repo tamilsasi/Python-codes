{
 "metadata": {
  "language_info": {
   "codemirror_mode": {
    "name": "ipython",
    "version": 3
   },
   "file_extension": ".py",
   "mimetype": "text/x-python",
   "name": "python",
   "nbconvert_exporter": "python",
   "pygments_lexer": "ipython3",
   "version": "3.6.6"
  },
  "orig_nbformat": 4,
  "kernelspec": {
   "name": "python3",
   "display_name": "Python 3.6.6 64-bit ('tensor': venv)"
  },
  "interpreter": {
   "hash": "c16e1179274dcac2bb28be77cc0fcc94b4d06b2e3d310e70c5194249f9238ffe"
  }
 },
 "nbformat": 4,
 "nbformat_minor": 2,
 "cells": [
  {
   "cell_type": "code",
   "execution_count": 1,
   "metadata": {},
   "outputs": [],
   "source": [
    "import numpy as np "
   ]
  },
  {
   "cell_type": "code",
   "execution_count": 3,
   "metadata": {},
   "outputs": [
    {
     "output_type": "execute_result",
     "data": {
      "text/plain": [
       "array([[1, 3],\n",
       "       [4, 5]])"
      ]
     },
     "metadata": {},
     "execution_count": 3
    }
   ],
   "source": [
    "arr = np.array([[1,3],[4,5]])\n",
    "arr"
   ]
  },
  {
   "cell_type": "code",
   "execution_count": 7,
   "metadata": {},
   "outputs": [
    {
     "output_type": "stream",
     "name": "stdout",
     "text": [
      "<class 'numpy.ndarray'>\n(2, 2)\n4\n"
     ]
    }
   ],
   "source": [
    "print(type(arr))\n",
    "print(arr.shape)\n",
    "print(arr.size)"
   ]
  },
  {
   "cell_type": "code",
   "execution_count": 12,
   "metadata": {},
   "outputs": [
    {
     "output_type": "stream",
     "name": "stdout",
     "text": [
      "[[0. 0. 0.]\n [0. 0. 0.]\n [0. 0. 0.]]\n[[1. 1. 1. 1.]\n [1. 1. 1. 1.]\n [1. 1. 1. 1.]]\n[[0.98441961 0.99952293 0.63203439 0.34308531]\n [0.15922782 0.91008342 0.09164463 0.93220734]\n [0.91198731 0.46428945 0.22817271 0.13138871]\n [0.08371836 0.0928252  0.03435499 0.07836076]]\n"
     ]
    }
   ],
   "source": [
    "a=np.zeros([3,3])\n",
    "b=np.ones([3,4])\n",
    "c=np.random.random([4,4])\n",
    "print(a)\n",
    "print(b)\n",
    "print(c)"
   ]
  },
  {
   "cell_type": "code",
   "execution_count": 15,
   "metadata": {},
   "outputs": [
    {
     "output_type": "stream",
     "name": "stdout",
     "text": [
      "[[6 6 6 6]\n [6 6 6 6]\n [6 6 6 6]\n [6 6 6 6]]\n"
     ]
    }
   ],
   "source": [
    "ar = np.full((4,4),6)\n",
    "print(ar)"
   ]
  },
  {
   "cell_type": "code",
   "execution_count": 17,
   "metadata": {},
   "outputs": [
    {
     "output_type": "execute_result",
     "data": {
      "text/plain": [
       "array([[[6, 6, 6, 6],\n",
       "        [6, 6, 6, 6]],\n",
       "\n",
       "       [[6, 6, 6, 6],\n",
       "        [6, 6, 6, 6]]])"
      ]
     },
     "metadata": {},
     "execution_count": 17
    }
   ],
   "source": [
    "ar.reshape(2,2,4)"
   ]
  },
  {
   "cell_type": "code",
   "execution_count": 20,
   "metadata": {},
   "outputs": [
    {
     "output_type": "execute_result",
     "data": {
      "text/plain": [
       "array([6, 6, 6, 6, 6, 6, 6, 6, 6, 6, 6, 6, 6, 6, 6, 6])"
      ]
     },
     "metadata": {},
     "execution_count": 20
    }
   ],
   "source": [
    "ar.flatten()"
   ]
  },
  {
   "cell_type": "code",
   "execution_count": 22,
   "metadata": {},
   "outputs": [
    {
     "output_type": "stream",
     "name": "stdout",
     "text": [
      "1\n5\n13\n"
     ]
    }
   ],
   "source": [
    "# unary operator\n",
    "print(arr.min())\n",
    "print(arr.max())\n",
    "print(arr.sum())"
   ]
  },
  {
   "cell_type": "code",
   "execution_count": 24,
   "metadata": {},
   "outputs": [
    {
     "output_type": "stream",
     "name": "stdout",
     "text": [
      "[[ 6 24]\n [30 21]]\n[[ 5 10]\n [11 10]]\n[[26 30]\n [47 57]]\n"
     ]
    }
   ],
   "source": [
    "# Binary operator\n",
    "c1 = np.array([[3,4],[6,7]])\n",
    "c2 = np.array([[2,6],[5,3]])\n",
    "\n",
    "print(c1*c2)\n",
    "print(c1+c2)\n",
    "print(c1.dot(c2))"
   ]
  },
  {
   "cell_type": "code",
   "execution_count": 26,
   "metadata": {},
   "outputs": [
    {
     "output_type": "execute_result",
     "data": {
      "text/plain": [
       "array([[26, 30],\n",
       "       [47, 57]])"
      ]
     },
     "metadata": {},
     "execution_count": 26
    }
   ],
   "source": [
    "# matmul\n",
    "np.matmul(c1,c2)"
   ]
  },
  {
   "cell_type": "code",
   "execution_count": 30,
   "metadata": {},
   "outputs": [
    {
     "output_type": "stream",
     "name": "stdout",
     "text": [
      "[[0.66704443 0.09301394 0.07601723 0.49751741]\n [0.77619161 0.29880359 0.5636306  0.74100247]\n [0.85856262 0.90068082 0.7426558  0.8358536 ]]\n[[0.29880359 0.49751741 0.7426558  0.77619161]\n [0.09301394 0.5636306  0.66704443 0.8358536 ]\n [0.07601723 0.74100247 0.85856262 0.90068082]]\n"
     ]
    }
   ],
   "source": [
    "#sorting\n",
    "c3 = np.random.random((3,4))\n",
    "print( np.sort(c3, axis=0 ))\n",
    "print( np.sort(c3, axis=1 ))"
   ]
  }
 ]
}