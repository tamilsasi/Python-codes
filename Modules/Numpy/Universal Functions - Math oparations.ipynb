{
 "cells": [
  {
   "cell_type": "markdown",
   "id": "76a2c6ff",
   "metadata": {},
   "source": [
    "# Math operations"
   ]
  },
  {
   "cell_type": "markdown",
   "id": "4406c348",
   "metadata": {},
   "source": [
    "## add() method "
   ]
  },
  {
   "cell_type": "code",
   "execution_count": 1,
   "id": "56500765",
   "metadata": {},
   "outputs": [],
   "source": [
    "import numpy as np"
   ]
  },
  {
   "cell_type": "code",
   "execution_count": 2,
   "id": "f28addf0",
   "metadata": {},
   "outputs": [
    {
     "data": {
      "text/plain": [
       "9"
      ]
     },
     "execution_count": 2,
     "metadata": {},
     "output_type": "execute_result"
    }
   ],
   "source": [
    "# one type \n",
    "np.add(4,5)"
   ]
  },
  {
   "cell_type": "code",
   "execution_count": 8,
   "id": "76aa5e7a",
   "metadata": {},
   "outputs": [
    {
     "data": {
      "text/plain": [
       "array([[ 4.,  5.,  6.],\n",
       "       [ 7.,  8.,  9.],\n",
       "       [10., 11., 12.]])"
      ]
     },
     "execution_count": 8,
     "metadata": {},
     "output_type": "execute_result"
    }
   ],
   "source": [
    "# second type\n",
    "a=np.ones((3,3))\n",
    "b=np.arange(3,12).reshape(3,3)\n",
    "np.add(a,b)"
   ]
  },
  {
   "cell_type": "code",
   "execution_count": 9,
   "id": "a0527a19",
   "metadata": {},
   "outputs": [
    {
     "data": {
      "text/plain": [
       "array([[ 4.,  5.,  6.],\n",
       "       [ 7.,  8.,  9.],\n",
       "       [10., 11., 12.]])"
      ]
     },
     "execution_count": 9,
     "metadata": {},
     "output_type": "execute_result"
    }
   ],
   "source": [
    "# third type \n",
    "a+b"
   ]
  },
  {
   "cell_type": "markdown",
   "id": "f05bd598",
   "metadata": {},
   "source": [
    "## subtract() method"
   ]
  },
  {
   "cell_type": "code",
   "execution_count": 10,
   "id": "fc1e4214",
   "metadata": {},
   "outputs": [
    {
     "data": {
      "text/plain": [
       "array([[ 2.,  3.,  4.],\n",
       "       [ 5.,  6.,  7.],\n",
       "       [ 8.,  9., 10.]])"
      ]
     },
     "execution_count": 10,
     "metadata": {},
     "output_type": "execute_result"
    }
   ],
   "source": [
    "np.subtract(b,a)"
   ]
  },
  {
   "cell_type": "markdown",
   "id": "39ffea92",
   "metadata": {},
   "source": [
    "## multiply() method"
   ]
  },
  {
   "cell_type": "code",
   "execution_count": 11,
   "id": "1f391095",
   "metadata": {},
   "outputs": [
    {
     "data": {
      "text/plain": [
       "array([[ 3.,  4.,  5.],\n",
       "       [ 6.,  7.,  8.],\n",
       "       [ 9., 10., 11.]])"
      ]
     },
     "execution_count": 11,
     "metadata": {},
     "output_type": "execute_result"
    }
   ],
   "source": [
    "np.multiply(a,b)"
   ]
  },
  {
   "cell_type": "markdown",
   "id": "5814e195",
   "metadata": {},
   "source": [
    "## divide() method"
   ]
  },
  {
   "cell_type": "code",
   "execution_count": 12,
   "id": "5182dc74",
   "metadata": {},
   "outputs": [
    {
     "data": {
      "text/plain": [
       "array([[ 3.,  4.,  5.],\n",
       "       [ 6.,  7.,  8.],\n",
       "       [ 9., 10., 11.]])"
      ]
     },
     "execution_count": 12,
     "metadata": {},
     "output_type": "execute_result"
    }
   ],
   "source": [
    "np.divide(b,a)"
   ]
  },
  {
   "cell_type": "code",
   "execution_count": 13,
   "id": "88c559a0",
   "metadata": {},
   "outputs": [
    {
     "data": {
      "text/plain": [
       "array([[1.5, 2. , 2.5],\n",
       "       [3. , 3.5, 4. ],\n",
       "       [4.5, 5. , 5.5]])"
      ]
     },
     "execution_count": 13,
     "metadata": {},
     "output_type": "execute_result"
    }
   ],
   "source": [
    "b/2"
   ]
  },
  {
   "cell_type": "code",
   "execution_count": 14,
   "id": "2a135071",
   "metadata": {},
   "outputs": [
    {
     "data": {
      "text/plain": [
       "array([[1, 2, 2],\n",
       "       [3, 3, 4],\n",
       "       [4, 5, 5]], dtype=int32)"
      ]
     },
     "execution_count": 14,
     "metadata": {},
     "output_type": "execute_result"
    }
   ],
   "source": [
    "b//2"
   ]
  },
  {
   "cell_type": "markdown",
   "id": "74b163cc",
   "metadata": {},
   "source": [
    "## matmul() method \n",
    "\n",
    "matrix multiplication"
   ]
  },
  {
   "cell_type": "code",
   "execution_count": 17,
   "id": "15f2d327",
   "metadata": {},
   "outputs": [
    {
     "data": {
      "text/plain": [
       "array([14, 23, 32])"
      ]
     },
     "execution_count": 17,
     "metadata": {},
     "output_type": "execute_result"
    }
   ],
   "source": [
    "c=np.arange(3)\n",
    "np.matmul(b,c)"
   ]
  },
  {
   "cell_type": "markdown",
   "id": "90ee5bb2",
   "metadata": {},
   "source": [
    "## logaddexp() method\n",
    "\n",
    "Logarithm of the sum of exponentiations of the inputs.\n",
    "\n"
   ]
  },
  {
   "cell_type": "code",
   "execution_count": 20,
   "id": "394f6d9b",
   "metadata": {},
   "outputs": [
    {
     "name": "stdout",
     "output_type": "stream",
     "text": [
      "logaddexp: -113.87649168120691\n"
     ]
    },
    {
     "data": {
      "text/plain": [
       "3.5000000000000057e-50"
      ]
     },
     "execution_count": 20,
     "metadata": {},
     "output_type": "execute_result"
    }
   ],
   "source": [
    "prob1 = np.log(1e-50)\n",
    "prob2 = np.log(2.5e-50)\n",
    "prob3 = np.logaddexp(prob1, prob2)\n",
    "print(\"logaddexp:\",prob3)\n",
    "np.exp(prob3)"
   ]
  },
  {
   "cell_type": "markdown",
   "id": "11e6423e",
   "metadata": {},
   "source": [
    "## logaddexp2() method\n",
    "\n",
    "Logarithm of the sum of exponentiations of the inputs in base-2.\n",
    "\n"
   ]
  },
  {
   "cell_type": "code",
   "execution_count": 21,
   "id": "abbd30b9",
   "metadata": {},
   "outputs": [
    {
     "name": "stdout",
     "output_type": "stream",
     "text": [
      "logaddexp2: -113.59955522772194\n"
     ]
    },
    {
     "data": {
      "text/plain": [
       "6.355158439693369e-35"
      ]
     },
     "execution_count": 21,
     "metadata": {},
     "output_type": "execute_result"
    }
   ],
   "source": [
    "prob4 = np.log2(1e-50)\n",
    "prob5 = np.log2(2.5e-50)\n",
    "prob6 = np.logaddexp2(prob1, prob2)\n",
    "print(\"logaddexp2:\",prob6)\n",
    "2**prob6"
   ]
  },
  {
   "cell_type": "markdown",
   "id": "ed7f7178",
   "metadata": {},
   "source": [
    "## true_divide() method\n",
    "\n",
    "Returns a true division of the inputs, element-wise.\n",
    "\n"
   ]
  },
  {
   "cell_type": "code",
   "execution_count": 23,
   "id": "4abbcc53",
   "metadata": {},
   "outputs": [
    {
     "data": {
      "text/plain": [
       "array([0.  , 0.25, 0.5 , 0.75, 1.  ])"
      ]
     },
     "execution_count": 23,
     "metadata": {},
     "output_type": "execute_result"
    }
   ],
   "source": [
    "e=np.arange(5)\n",
    "np.true_divide(e,4)"
   ]
  },
  {
   "cell_type": "code",
   "execution_count": 24,
   "id": "70767a06",
   "metadata": {},
   "outputs": [
    {
     "data": {
      "text/plain": [
       "array([0.  , 0.25, 0.5 , 0.75, 1.  ])"
      ]
     },
     "execution_count": 24,
     "metadata": {},
     "output_type": "execute_result"
    }
   ],
   "source": [
    "e/4"
   ]
  },
  {
   "cell_type": "code",
   "execution_count": 25,
   "id": "a48d9981",
   "metadata": {},
   "outputs": [
    {
     "data": {
      "text/plain": [
       "array([0, 0, 0, 0, 1], dtype=int32)"
      ]
     },
     "execution_count": 25,
     "metadata": {},
     "output_type": "execute_result"
    }
   ],
   "source": [
    "e//4"
   ]
  },
  {
   "cell_type": "markdown",
   "id": "ec815dc3",
   "metadata": {},
   "source": [
    "## floor_divide() method \n",
    "\n",
    "Return the largest integer smaller or equal to the division of the inputs."
   ]
  },
  {
   "cell_type": "code",
   "execution_count": 27,
   "id": "d6e19938",
   "metadata": {},
   "outputs": [
    {
     "data": {
      "text/plain": [
       "2"
      ]
     },
     "execution_count": 27,
     "metadata": {},
     "output_type": "execute_result"
    }
   ],
   "source": [
    "np.floor_divide(7,3)"
   ]
  },
  {
   "cell_type": "code",
   "execution_count": 28,
   "id": "fae8c801",
   "metadata": {},
   "outputs": [
    {
     "data": {
      "text/plain": [
       "array([0., 0., 1., 1.])"
      ]
     },
     "execution_count": 28,
     "metadata": {},
     "output_type": "execute_result"
    }
   ],
   "source": [
    "x1 = np.array([1., 2., 3., 4.])\n",
    "x1 // 2.5"
   ]
  },
  {
   "cell_type": "markdown",
   "id": "e62a7bf2",
   "metadata": {},
   "source": [
    "## negative() method\n",
    "\n",
    "Numerical negative, element-wise.\n",
    "\n"
   ]
  },
  {
   "cell_type": "code",
   "execution_count": 31,
   "id": "36cdda93",
   "metadata": {},
   "outputs": [
    {
     "data": {
      "text/plain": [
       "array([-1.,  1.,  3.,  2., -5., -3.])"
      ]
     },
     "execution_count": 31,
     "metadata": {},
     "output_type": "execute_result"
    }
   ],
   "source": [
    "np.negative([1.,-1.,-3,-2,5,3])"
   ]
  },
  {
   "cell_type": "code",
   "execution_count": 34,
   "id": "ce707f1a",
   "metadata": {},
   "outputs": [
    {
     "data": {
      "text/plain": [
       "array([-1.,  1., -5.,  6.])"
      ]
     },
     "execution_count": 34,
     "metadata": {},
     "output_type": "execute_result"
    }
   ],
   "source": [
    "x1 = np.array(([1., -1.,5,-6]))\n",
    "-x1"
   ]
  },
  {
   "cell_type": "markdown",
   "id": "6b2cf3a1",
   "metadata": {},
   "source": [
    "## positive() method\n",
    "\n",
    "Numerical positive, element-wise."
   ]
  },
  {
   "cell_type": "code",
   "execution_count": 40,
   "id": "1d91b364",
   "metadata": {},
   "outputs": [
    {
     "data": {
      "text/plain": [
       "array([ 1., -1.,  5.])"
      ]
     },
     "execution_count": 40,
     "metadata": {},
     "output_type": "execute_result"
    }
   ],
   "source": [
    "x1 = np.array(([1., -1.,5]))\n",
    "np.positive(x1)"
   ]
  },
  {
   "cell_type": "code",
   "execution_count": 39,
   "id": "c4509290",
   "metadata": {},
   "outputs": [
    {
     "data": {
      "text/plain": [
       "array([ 1., -1.,  8.])"
      ]
     },
     "execution_count": 39,
     "metadata": {},
     "output_type": "execute_result"
    }
   ],
   "source": [
    "x1 = np.array(([1., -1.,8]))\n",
    "+x1"
   ]
  },
  {
   "cell_type": "markdown",
   "id": "c6516b6e",
   "metadata": {},
   "source": [
    "## power() method\n",
    "\n",
    "First array elements raised to powers from second array, element-wise."
   ]
  },
  {
   "cell_type": "code",
   "execution_count": 46,
   "id": "e272d8b2",
   "metadata": {},
   "outputs": [
    {
     "data": {
      "text/plain": [
       "array([  0,   1,   8,  27,  64, 125], dtype=int32)"
      ]
     },
     "execution_count": 46,
     "metadata": {},
     "output_type": "execute_result"
    }
   ],
   "source": [
    "g1=np.arange(6)\n",
    "np.power(g1,3)"
   ]
  },
  {
   "cell_type": "code",
   "execution_count": 49,
   "id": "a1bcc25a",
   "metadata": {},
   "outputs": [
    {
     "data": {
      "text/plain": [
       "array([     1,      6,     49,    512,   6561, 100000], dtype=int32)"
      ]
     },
     "execution_count": 49,
     "metadata": {},
     "output_type": "execute_result"
    }
   ],
   "source": [
    "g2=np.arange(5,11)\n",
    "np.power(g2,g1)"
   ]
  },
  {
   "cell_type": "code",
   "execution_count": 51,
   "id": "22894661",
   "metadata": {},
   "outputs": [
    {
     "data": {
      "text/plain": [
       "array([     1,      6,     49,    512,   6561, 100000], dtype=int32)"
      ]
     },
     "execution_count": 51,
     "metadata": {},
     "output_type": "execute_result"
    }
   ],
   "source": [
    "g2**g1"
   ]
  },
  {
   "cell_type": "markdown",
   "id": "7672f1bc",
   "metadata": {},
   "source": [
    "## float_power() method\n",
    "\n",
    "First array elements raised to powers from second array, element-wise."
   ]
  },
  {
   "cell_type": "code",
   "execution_count": 53,
   "id": "6393ce73",
   "metadata": {},
   "outputs": [
    {
     "data": {
      "text/plain": [
       "array([ 0.,  1.,  4.,  9., 16., 25.])"
      ]
     },
     "execution_count": 53,
     "metadata": {},
     "output_type": "execute_result"
    }
   ],
   "source": [
    "h1=range(6)\n",
    "np.float_power(h1,2)"
   ]
  },
  {
   "cell_type": "code",
   "execution_count": 54,
   "id": "fcdabf79",
   "metadata": {},
   "outputs": [
    {
     "data": {
      "text/plain": [
       "array([[ 0.,  1.,  8., 27., 16.,  5.],\n",
       "       [ 0.,  1.,  8., 27., 16.,  5.]])"
      ]
     },
     "execution_count": 54,
     "metadata": {},
     "output_type": "execute_result"
    }
   ],
   "source": [
    "h2=np.array([[1, 2, 3, 3, 2, 1], [1, 2, 3, 3, 2, 1]])\n",
    "np.float_power(h1,h2)"
   ]
  },
  {
   "cell_type": "markdown",
   "id": "e0d47345",
   "metadata": {},
   "source": [
    "## remainder() method\n",
    "\n",
    "Return element-wise remainder of division.\n",
    "\n"
   ]
  },
  {
   "cell_type": "code",
   "execution_count": 56,
   "id": "48da32e9",
   "metadata": {},
   "outputs": [
    {
     "data": {
      "text/plain": [
       "array([0, 1], dtype=int32)"
      ]
     },
     "execution_count": 56,
     "metadata": {},
     "output_type": "execute_result"
    }
   ],
   "source": [
    "np.remainder([4, 7], [2, 3])"
   ]
  },
  {
   "cell_type": "code",
   "execution_count": 59,
   "id": "a9d9098d",
   "metadata": {},
   "outputs": [
    {
     "data": {
      "text/plain": [
       "array([0, 1, 2, 3, 4, 0, 1], dtype=int32)"
      ]
     },
     "execution_count": 59,
     "metadata": {},
     "output_type": "execute_result"
    }
   ],
   "source": [
    "g3=np.arange(7)\n",
    "np.remainder(g3, 5)"
   ]
  },
  {
   "cell_type": "code",
   "execution_count": 60,
   "id": "88cd054b",
   "metadata": {},
   "outputs": [
    {
     "data": {
      "text/plain": [
       "array([0, 1, 2, 3, 4, 0, 1], dtype=int32)"
      ]
     },
     "execution_count": 60,
     "metadata": {},
     "output_type": "execute_result"
    }
   ],
   "source": [
    "g3%5"
   ]
  },
  {
   "cell_type": "markdown",
   "id": "7382ed67",
   "metadata": {},
   "source": [
    "## mod() method\n",
    "\n",
    "Return element-wise remainder of division.\n",
    "\n",
    "also same as remainder"
   ]
  },
  {
   "cell_type": "code",
   "execution_count": 62,
   "id": "20f0ac4b",
   "metadata": {},
   "outputs": [
    {
     "data": {
      "text/plain": [
       "0"
      ]
     },
     "execution_count": 62,
     "metadata": {},
     "output_type": "execute_result"
    }
   ],
   "source": [
    "np.mod(6,3)"
   ]
  },
  {
   "cell_type": "markdown",
   "id": "4671af75",
   "metadata": {},
   "source": [
    "## fmod() method\n",
    "\n",
    "Return the element-wise remainder of division.\n",
    "\n"
   ]
  },
  {
   "cell_type": "code",
   "execution_count": 64,
   "id": "d254f1f6",
   "metadata": {},
   "outputs": [
    {
     "data": {
      "text/plain": [
       "array([-1,  0, -1,  1,  0,  1], dtype=int32)"
      ]
     },
     "execution_count": 64,
     "metadata": {},
     "output_type": "execute_result"
    }
   ],
   "source": [
    "np.fmod([-3, -2, -1, 1, 2, 3], 2)"
   ]
  },
  {
   "cell_type": "code",
   "execution_count": 66,
   "id": "8e09072d",
   "metadata": {},
   "outputs": [
    {
     "data": {
      "text/plain": [
       "array([1, 0, 1, 1, 0, 1], dtype=int32)"
      ]
     },
     "execution_count": 66,
     "metadata": {},
     "output_type": "execute_result"
    }
   ],
   "source": [
    "# fmod method different from remainder method\n",
    "np.remainder([-3, -2, -1, 1, 2, 3], 2)"
   ]
  },
  {
   "cell_type": "code",
   "execution_count": 69,
   "id": "23a0d32c",
   "metadata": {},
   "outputs": [
    {
     "data": {
      "text/plain": [
       "array([2., 0.])"
      ]
     },
     "execution_count": 69,
     "metadata": {},
     "output_type": "execute_result"
    }
   ],
   "source": [
    "np.fmod([5, 3], [3, 3.])\n"
   ]
  },
  {
   "cell_type": "code",
   "execution_count": 74,
   "id": "bdcea925",
   "metadata": {},
   "outputs": [
    {
     "data": {
      "text/plain": [
       "array([[ 0,  0],\n",
       "       [-1,  0],\n",
       "       [ 1,  0]], dtype=int32)"
      ]
     },
     "execution_count": 74,
     "metadata": {},
     "output_type": "execute_result"
    }
   ],
   "source": [
    "g4=np.arange(-3,3).reshape(3,2)\n",
    "np.fmod(g4,[3,2])"
   ]
  },
  {
   "cell_type": "markdown",
   "id": "53c03f98",
   "metadata": {},
   "source": [
    "## divmod() method\n",
    "\n",
    "Return element-wise quotient and remainder simultaneously.\n",
    "\n",
    "np.divmod(x, y) is equivalent to (x // y, x % y)"
   ]
  },
  {
   "cell_type": "code",
   "execution_count": 77,
   "id": "c26ca813",
   "metadata": {},
   "outputs": [
    {
     "data": {
      "text/plain": [
       "(array([0, 0, 1, 1, 2], dtype=int32), array([0, 1, 0, 1, 0], dtype=int32))"
      ]
     },
     "execution_count": 77,
     "metadata": {},
     "output_type": "execute_result"
    }
   ],
   "source": [
    "np.divmod(np.arange(5),2)"
   ]
  },
  {
   "cell_type": "markdown",
   "id": "b3ed2ee9",
   "metadata": {},
   "source": [
    "## absolute() method \n",
    "\n",
    "Calculate the absolute value element-wise.\n",
    "\n"
   ]
  },
  {
   "cell_type": "code",
   "execution_count": 79,
   "id": "e7d7a090",
   "metadata": {},
   "outputs": [
    {
     "data": {
      "text/plain": [
       "array([2, 3, 6, 5, 1, 1])"
      ]
     },
     "execution_count": 79,
     "metadata": {},
     "output_type": "execute_result"
    }
   ],
   "source": [
    "h1=np.array([-2,3,6,-5,1,-1])\n",
    "np.absolute(h1)"
   ]
  },
  {
   "cell_type": "code",
   "execution_count": 83,
   "id": "9a9c16fb",
   "metadata": {},
   "outputs": [
    {
     "data": {
      "text/plain": [
       "1.5620499351813308"
      ]
     },
     "execution_count": 83,
     "metadata": {},
     "output_type": "execute_result"
    }
   ],
   "source": [
    "np.absolute(1.2+1j)"
   ]
  },
  {
   "cell_type": "markdown",
   "id": "ad64527d",
   "metadata": {},
   "source": [
    "## Plot the function over [-10, 10]:\n",
    "\n"
   ]
  },
  {
   "cell_type": "code",
   "execution_count": 2,
   "id": "3243c35b",
   "metadata": {
    "scrolled": true
   },
   "outputs": [
    {
     "data": {
      "image/png": "[encoded data removed]",
      "text/plain": [
       "<Figure size 432x288 with 1 Axes>"
      ]
     },
     "metadata": {
      "needs_background": "light"
     },
     "output_type": "display_data"
    }
   ],
   "source": [
    "import matplotlib.pyplot as plt\n",
    "x = np.linspace(start=-10, stop=10, num=101)\n",
    "plt.plot(x, np.absolute(x))\n",
    "#print(x)\n",
    "#print(np.absolute(x))\n",
    "plt.show()"
   ]
  },
  {
   "cell_type": "code",
   "execution_count": 106,
   "id": "76592b83",
   "metadata": {},
   "outputs": [
    {
     "data": {
      "text/plain": [
       "array([10. ,  9.8,  9.6,  9.4,  9.2,  9. ,  8.8,  8.6,  8.4,  8.2,  8. ,\n",
       "        7.8,  7.6,  7.4,  7.2,  7. ,  6.8,  6.6,  6.4,  6.2,  6. ,  5.8,\n",
       "        5.6,  5.4,  5.2,  5. ,  4.8,  4.6,  4.4,  4.2,  4. ,  3.8,  3.6,\n",
       "        3.4,  3.2,  3. ,  2.8,  2.6,  2.4,  2.2,  2. ,  1.8,  1.6,  1.4,\n",
       "        1.2,  1. ,  0.8,  0.6,  0.4,  0.2,  0. ,  0.2,  0.4,  0.6,  0.8,\n",
       "        1. ,  1.2,  1.4,  1.6,  1.8,  2. ,  2.2,  2.4,  2.6,  2.8,  3. ,\n",
       "        3.2,  3.4,  3.6,  3.8,  4. ,  4.2,  4.4,  4.6,  4.8,  5. ,  5.2,\n",
       "        5.4,  5.6,  5.8,  6. ,  6.2,  6.4,  6.6,  6.8,  7. ,  7.2,  7.4,\n",
       "        7.6,  7.8,  8. ,  8.2,  8.4,  8.6,  8.8,  9. ,  9.2,  9.4,  9.6,\n",
       "        9.8, 10. ])"
      ]
     },
     "execution_count": 106,
     "metadata": {},
     "output_type": "execute_result"
    }
   ],
   "source": [
    "abs(x)"
   ]
  },
  {
   "cell_type": "code",
   "execution_count": 115,
   "id": "1856fecc",
   "metadata": {},
   "outputs": [
    {
     "data": {
      "image/png": "[encoded data removed]",
      "text/plain": [
       "<Figure size 432x288 with 1 Axes>"
      ]
     },
     "metadata": {
      "needs_background": "light"
     },
     "output_type": "display_data"
    }
   ],
   "source": [
    "xx = x + 1j * x[:, np.newaxis]\n",
    "plt.imshow(np.abs(xx), extent=[-10, 10, -10, 10], cmap='ocean')\n",
    "plt.show()"
   ]
  },
  {
   "cell_type": "code",
   "execution_count": 110,
   "id": "bbb7b1ce",
   "metadata": {},
   "outputs": [
    {
     "ename": "SyntaxError",
     "evalue": "invalid syntax (<ipython-input-110-4341692e1d9c>, line 1)",
     "output_type": "error",
     "traceback": [
      "\u001b[1;36m  File \u001b[1;32m\"<ipython-input-110-4341692e1d9c>\"\u001b[1;36m, line \u001b[1;32m1\u001b[0m\n\u001b[1;33m    https://i.stack.imgur.com/zkMBy.png\u001b[0m\n\u001b[1;37m           ^\u001b[0m\n\u001b[1;31mSyntaxError\u001b[0m\u001b[1;31m:\u001b[0m invalid syntax\n"
     ]
    }
   ],
   "source": []
  },
  {
   "cell_type": "markdown",
   "id": "f2e84ad4",
   "metadata": {},
   "source": [
    "## fabs() method \n",
    "\n",
    "Compute the absolute values element-wise."
   ]
  },
  {
   "cell_type": "code",
   "execution_count": 117,
   "id": "f69cbfd4",
   "metadata": {},
   "outputs": [
    {
     "data": {
      "text/plain": [
       "1.0"
      ]
     },
     "execution_count": 117,
     "metadata": {},
     "output_type": "execute_result"
    }
   ],
   "source": [
    "np.fabs(-1)"
   ]
  },
  {
   "cell_type": "code",
   "execution_count": 119,
   "id": "8818dc50",
   "metadata": {},
   "outputs": [
    {
     "data": {
      "text/plain": [
       "array([1.2, 1.2])"
      ]
     },
     "execution_count": 119,
     "metadata": {},
     "output_type": "execute_result"
    }
   ],
   "source": [
    "np.fabs([-1.2, 1.2])"
   ]
  },
  {
   "cell_type": "markdown",
   "id": "1fb2e151",
   "metadata": {},
   "source": [
    "## rint() method\n",
    "\n",
    "Round elements of the array to the nearest integer."
   ]
  },
  {
   "cell_type": "code",
   "execution_count": 121,
   "id": "8cef1211",
   "metadata": {},
   "outputs": [
    {
     "data": {
      "text/plain": [
       "array([-2., -2., -0.,  0.,  2.,  2.,  2.,  1.])"
      ]
     },
     "execution_count": 121,
     "metadata": {},
     "output_type": "execute_result"
    }
   ],
   "source": [
    "h2 = np.array([-1.7, -1.5, -0.2, 0.2, 1.5, 1.7, 2.0, 1.4])\n",
    "np.rint(h2)"
   ]
  },
  {
   "cell_type": "markdown",
   "id": "f18061cc",
   "metadata": {},
   "source": [
    "## sign() method\n",
    "\n",
    "Returns an element-wise indication of the sign of a number."
   ]
  },
  {
   "cell_type": "code",
   "execution_count": 123,
   "id": "5a31abe9",
   "metadata": {},
   "outputs": [
    {
     "data": {
      "text/plain": [
       "array([-1.,  1.])"
      ]
     },
     "execution_count": 123,
     "metadata": {},
     "output_type": "execute_result"
    }
   ],
   "source": [
    "np.sign([-5., 4.5])"
   ]
  },
  {
   "cell_type": "code",
   "execution_count": 125,
   "id": "23ac73a3",
   "metadata": {},
   "outputs": [
    {
     "data": {
      "text/plain": [
       "0"
      ]
     },
     "execution_count": 125,
     "metadata": {},
     "output_type": "execute_result"
    }
   ],
   "source": [
    "np.sign(0)"
   ]
  },
  {
   "cell_type": "code",
   "execution_count": 126,
   "id": "ebec6398",
   "metadata": {},
   "outputs": [
    {
     "data": {
      "text/plain": [
       "(1+0j)"
      ]
     },
     "execution_count": 126,
     "metadata": {},
     "output_type": "execute_result"
    }
   ],
   "source": [
    "np.sign(1-1j)"
   ]
  },
  {
   "cell_type": "markdown",
   "id": "cc0af0a3",
   "metadata": {},
   "source": [
    "## heaviside() method \n",
    "\n",
    "Compute the Heaviside step function.\n",
    "\n",
    "                      0   if x1 < 0\n",
    "  \n",
    "  heaviside(x1, x2) =    x2   if x1 == 0\n",
    "\n",
    "                      1   if x1 > 0\n",
    "                      \n",
    "                      \n",
    "  where x2 is often taken to be 0.5, but 0 and 1 are also sometimes used.\n",
    "\n",
    "\n"
   ]
  },
  {
   "cell_type": "code",
   "execution_count": 128,
   "id": "a75592d0",
   "metadata": {},
   "outputs": [
    {
     "data": {
      "text/plain": [
       "array([0. , 0.5, 1. ])"
      ]
     },
     "execution_count": 128,
     "metadata": {},
     "output_type": "execute_result"
    }
   ],
   "source": [
    "np.heaviside([-1.5, 0, 2.0], 0.5)"
   ]
  },
  {
   "cell_type": "code",
   "execution_count": 131,
   "id": "4a2f6b04",
   "metadata": {},
   "outputs": [
    {
     "data": {
      "text/plain": [
       "array([0., 1., 1., 1., 0.])"
      ]
     },
     "execution_count": 131,
     "metadata": {},
     "output_type": "execute_result"
    }
   ],
   "source": [
    "np.heaviside([-1.5, 0, 2.0, 1, -1], 1)"
   ]
  },
  {
   "cell_type": "markdown",
   "id": "f80e6a9e",
   "metadata": {},
   "source": [
    "## conj() and conjugate() method both are same\n",
    "\n",
    "Return the complex conjugate, element-wise.\n",
    "\n",
    "The complex conjugate of a complex number is obtained by changing the sign of its imaginary part.\n",
    "\n",
    "conj is an alias for conjugate:"
   ]
  },
  {
   "cell_type": "code",
   "execution_count": 142,
   "id": "78503641",
   "metadata": {},
   "outputs": [
    {
     "data": {
      "text/plain": [
       "True"
      ]
     },
     "execution_count": 142,
     "metadata": {},
     "output_type": "execute_result"
    }
   ],
   "source": [
    "np.conj is np.conjugate"
   ]
  },
  {
   "cell_type": "code",
   "execution_count": 143,
   "id": "c408c68c",
   "metadata": {},
   "outputs": [
    {
     "data": {
      "text/plain": [
       "(1-2j)"
      ]
     },
     "execution_count": 143,
     "metadata": {},
     "output_type": "execute_result"
    }
   ],
   "source": [
    "np.conjugate(1+2j)"
   ]
  },
  {
   "cell_type": "code",
   "execution_count": 144,
   "id": "4ac5c701",
   "metadata": {},
   "outputs": [
    {
     "data": {
      "text/plain": [
       "array([[1.-1.j, 0.-0.j],\n",
       "       [0.-0.j, 1.-1.j]])"
      ]
     },
     "execution_count": 144,
     "metadata": {},
     "output_type": "execute_result"
    }
   ],
   "source": [
    "x = np.eye(2) + 1j * np.eye(2)\n",
    "np.conjugate(x)"
   ]
  },
  {
   "cell_type": "markdown",
   "id": "e00b5b8b",
   "metadata": {},
   "source": [
    "## exp() method\n",
    "\n",
    "Calculate the exponential of all elements in the input array.\n",
    "\n",
    "Plot the magnitude and phase of exp(x) in the complex plane:\n",
    "\n"
   ]
  },
  {
   "cell_type": "code",
   "execution_count": 146,
   "id": "05bedf93",
   "metadata": {},
   "outputs": [
    {
     "data": {
      "image/png": "[encoded data removed]",
      "text/plain": [
       "<Figure size 432x288 with 2 Axes>"
      ]
     },
     "metadata": {
      "needs_background": "light"
     },
     "output_type": "display_data"
    }
   ],
   "source": [
    "import matplotlib.pyplot as plt\n",
    "x = np.linspace(-2*np.pi, 2*np.pi, 100)\n",
    "xx = x + 1j * x[:, np.newaxis] \n",
    "\n",
    "# a + ib over complex plane\n",
    "out = np.exp(xx)\n",
    "plt.subplot(121)\n",
    "plt.imshow(np.abs(out), extent=[-2*np.pi, 2*np.pi, -2*np.pi, 2*np.pi], cmap='gray')\n",
    "plt.title('Magnitude of exp(x)')\n",
    "plt.subplot(122)\n",
    "\n",
    "plt.imshow(np.angle(out), extent=[-2*np.pi, 2*np.pi, -2*np.pi, 2*np.pi], cmap='hsv')\n",
    "plt.title('Phase (angle) of exp(x)')\n",
    "plt.show()\n"
   ]
  },
  {
   "cell_type": "code",
   "execution_count": 152,
   "id": "4fb421c8",
   "metadata": {},
   "outputs": [
    {
     "name": "stdout",
     "output_type": "stream",
     "text": [
      "3.141592653589793\n",
      "[ 2.71828183  0.13533528 20.08553692]\n"
     ]
    }
   ],
   "source": [
    "print(np.pi)\n",
    "print(np.exp([1,-2,3]))"
   ]
  },
  {
   "cell_type": "markdown",
   "id": "a6dcc87a",
   "metadata": {},
   "source": [
    "## exp2() method\n",
    "\n",
    "Calculate 2**p for all p in the input array.\n",
    "\n"
   ]
  },
  {
   "cell_type": "code",
   "execution_count": 154,
   "id": "6b3e895e",
   "metadata": {},
   "outputs": [
    {
     "data": {
      "text/plain": [
       "array([ 4.,  8., 16., 32.])"
      ]
     },
     "execution_count": 154,
     "metadata": {},
     "output_type": "execute_result"
    }
   ],
   "source": [
    "np.exp2([2,3,4,5])"
   ]
  },
  {
   "cell_type": "markdown",
   "id": "19b08a05",
   "metadata": {},
   "source": [
    "## log() method\n",
    "\n",
    "Natural logarithm, element-wise.\n",
    "\n",
    "The natural logarithm log is the inverse of the exponential function, so that log(exp(x)) = x. The natural logarithm is logarithm in base e."
   ]
  },
  {
   "cell_type": "code",
   "execution_count": 156,
   "id": "a3e15d1a",
   "metadata": {},
   "outputs": [
    {
     "data": {
      "text/plain": [
       "array([0., 1., 2.])"
      ]
     },
     "execution_count": 156,
     "metadata": {},
     "output_type": "execute_result"
    }
   ],
   "source": [
    "np.log([1, np.e, np.e**2])"
   ]
  },
  {
   "cell_type": "markdown",
   "id": "453b2202",
   "metadata": {},
   "source": [
    "## log2() method\n",
    "\n",
    "Base-2 logarithm of x.\n",
    "\n"
   ]
  },
  {
   "cell_type": "code",
   "execution_count": 157,
   "id": "31e5f538",
   "metadata": {},
   "outputs": [
    {
     "name": "stderr",
     "output_type": "stream",
     "text": [
      "c:\\users\\tamilselvan\\tensor\\lib\\site-packages\\ipykernel_launcher.py:2: RuntimeWarning: divide by zero encountered in log2\n",
      "  \n"
     ]
    },
    {
     "data": {
      "text/plain": [
       "array([-inf,   0.,   1.,   4.])"
      ]
     },
     "execution_count": 157,
     "metadata": {},
     "output_type": "execute_result"
    }
   ],
   "source": [
    "x = np.array([0, 1, 2, 2**4])\n",
    "np.log2(x)\n",
    "\n"
   ]
  },
  {
   "cell_type": "code",
   "execution_count": 159,
   "id": "50e1de8a",
   "metadata": {},
   "outputs": [
    {
     "data": {
      "text/plain": [
       "array([0.+2.26618007j, 0.+0.j        , 1.+0.j        , 2.+2.26618007j])"
      ]
     },
     "execution_count": 159,
     "metadata": {},
     "output_type": "execute_result"
    }
   ],
   "source": [
    "xi = np.array([0+1.j, 1, 2+0.j, 4.j])\n",
    "np.log2(xi)"
   ]
  },
  {
   "cell_type": "markdown",
   "id": "c39afe38",
   "metadata": {},
   "source": [
    "## log10() method\n",
    "\n",
    "Return the base 10 logarithm of the input array, element-wise.\n",
    "\n"
   ]
  },
  {
   "cell_type": "code",
   "execution_count": 163,
   "id": "26c68517",
   "metadata": {},
   "outputs": [
    {
     "name": "stderr",
     "output_type": "stream",
     "text": [
      "c:\\users\\tamilselvan\\tensor\\lib\\site-packages\\ipykernel_launcher.py:1: RuntimeWarning: invalid value encountered in log10\n",
      "  \"\"\"Entry point for launching an IPython kernel.\n"
     ]
    },
    {
     "data": {
      "text/plain": [
       "array([-15.     ,       nan,   0.30103,       nan])"
      ]
     },
     "execution_count": 163,
     "metadata": {},
     "output_type": "execute_result"
    }
   ],
   "source": [
    "np.log10([1e-15, -3., 2, -5])"
   ]
  },
  {
   "cell_type": "markdown",
   "id": "f646ce73",
   "metadata": {},
   "source": [
    "## expm1() method \n",
    "\n",
    "Calculate exp(x) - 1 for all elements in the array.\n",
    "\n"
   ]
  },
  {
   "cell_type": "code",
   "execution_count": 164,
   "id": "ae19ab7a",
   "metadata": {},
   "outputs": [
    {
     "data": {
      "text/plain": [
       "1.00000000005e-10"
      ]
     },
     "execution_count": 164,
     "metadata": {},
     "output_type": "execute_result"
    }
   ],
   "source": [
    "np.expm1(1e-10)"
   ]
  },
  {
   "cell_type": "code",
   "execution_count": 166,
   "id": "a855a49f",
   "metadata": {},
   "outputs": [
    {
     "data": {
      "text/plain": [
       "1.000000082740371e-10"
      ]
     },
     "execution_count": 166,
     "metadata": {},
     "output_type": "execute_result"
    }
   ],
   "source": [
    "np.exp(1e-10) - 1"
   ]
  },
  {
   "cell_type": "markdown",
   "id": "9d5c553e",
   "metadata": {},
   "source": [
    "## log1p() method\n",
    "\n",
    "Return the natural logarithm of one plus the input array, element-wise.\n",
    "\n",
    "Calculates log(1 + x).\n",
    "\n"
   ]
  },
  {
   "cell_type": "code",
   "execution_count": 167,
   "id": "e35f2fff",
   "metadata": {},
   "outputs": [
    {
     "data": {
      "text/plain": [
       "1e-99"
      ]
     },
     "execution_count": 167,
     "metadata": {},
     "output_type": "execute_result"
    }
   ],
   "source": [
    "np.log1p(1e-99)"
   ]
  },
  {
   "cell_type": "code",
   "execution_count": 171,
   "id": "65444ce7",
   "metadata": {},
   "outputs": [
    {
     "data": {
      "text/plain": [
       "0.0"
      ]
     },
     "execution_count": 171,
     "metadata": {},
     "output_type": "execute_result"
    }
   ],
   "source": [
    "np.log(1+1e-99)"
   ]
  },
  {
   "cell_type": "markdown",
   "id": "3eca3dcf",
   "metadata": {},
   "source": [
    "## sqrt() method \n",
    "\n",
    "Return the non-negative square-root of an array, element-wise.\n",
    "\n"
   ]
  },
  {
   "cell_type": "code",
   "execution_count": 172,
   "id": "16a5a253",
   "metadata": {},
   "outputs": [
    {
     "data": {
      "text/plain": [
       "array([1., 2., 3.])"
      ]
     },
     "execution_count": 172,
     "metadata": {},
     "output_type": "execute_result"
    }
   ],
   "source": [
    "np.sqrt([1,4,9])"
   ]
  },
  {
   "cell_type": "code",
   "execution_count": 173,
   "id": "5c4ae338",
   "metadata": {},
   "outputs": [
    {
     "data": {
      "text/plain": [
       "array([2.+0.j, 0.+1.j, 1.+2.j])"
      ]
     },
     "execution_count": 173,
     "metadata": {},
     "output_type": "execute_result"
    }
   ],
   "source": [
    "np.sqrt([4, -1, -3+4J])"
   ]
  },
  {
   "cell_type": "code",
   "execution_count": 174,
   "id": "eea1a6c7",
   "metadata": {},
   "outputs": [
    {
     "name": "stderr",
     "output_type": "stream",
     "text": [
      "c:\\users\\tamilselvan\\tensor\\lib\\site-packages\\ipykernel_launcher.py:1: RuntimeWarning: invalid value encountered in sqrt\n",
      "  \"\"\"Entry point for launching an IPython kernel.\n"
     ]
    },
    {
     "data": {
      "text/plain": [
       "array([ 2., nan, inf])"
      ]
     },
     "execution_count": 174,
     "metadata": {},
     "output_type": "execute_result"
    }
   ],
   "source": [
    "np.sqrt([4, -1, np.inf])"
   ]
  },
  {
   "cell_type": "markdown",
   "id": "d7586570",
   "metadata": {},
   "source": [
    "## square() method\n",
    "\n",
    "Return the element-wise square of the input.\n",
    "\n"
   ]
  },
  {
   "cell_type": "code",
   "execution_count": 4,
   "id": "8c89aed3",
   "metadata": {},
   "outputs": [
    {
     "data": {
      "text/plain": [
       "array([-1.+0.j,  1.+0.j])"
      ]
     },
     "execution_count": 4,
     "metadata": {},
     "output_type": "execute_result"
    }
   ],
   "source": [
    "np.square([-1j, 1])"
   ]
  },
  {
   "cell_type": "code",
   "execution_count": 6,
   "id": "0e7baed4",
   "metadata": {},
   "outputs": [
    {
     "data": {
      "text/plain": [
       "9"
      ]
     },
     "execution_count": 6,
     "metadata": {},
     "output_type": "execute_result"
    }
   ],
   "source": [
    "np.square(3)"
   ]
  },
  {
   "cell_type": "code",
   "execution_count": 7,
   "id": "a863b91f",
   "metadata": {},
   "outputs": [
    {
     "data": {
      "text/plain": [
       "array([ 9, 36, 81, 25, 49,  4], dtype=int32)"
      ]
     },
     "execution_count": 7,
     "metadata": {},
     "output_type": "execute_result"
    }
   ],
   "source": [
    "np.square([3,6,9,5,7,2])"
   ]
  },
  {
   "cell_type": "markdown",
   "id": "060b8bf4",
   "metadata": {},
   "source": [
    "## cbrt() method\n",
    "\n",
    "Return the cube-root of an array, element-wise."
   ]
  },
  {
   "cell_type": "code",
   "execution_count": 9,
   "id": "7190f8a6",
   "metadata": {},
   "outputs": [
    {
     "data": {
      "text/plain": [
       "array([1.        , 2.        , 3.        , 2.08008382])"
      ]
     },
     "execution_count": 9,
     "metadata": {},
     "output_type": "execute_result"
    }
   ],
   "source": [
    "np.cbrt([1,8,27,9])"
   ]
  },
  {
   "cell_type": "markdown",
   "id": "220711b4",
   "metadata": {},
   "source": [
    "## reciprocal() method\n",
    "\n",
    "Return the reciprocal of the argument, element-wise.\n",
    "\n",
    "This function is not designed to work with integers.\n",
    "\n"
   ]
  },
  {
   "cell_type": "code",
   "execution_count": 10,
   "id": "47808898",
   "metadata": {},
   "outputs": [
    {
     "data": {
      "text/plain": [
       "0.5"
      ]
     },
     "execution_count": 10,
     "metadata": {},
     "output_type": "execute_result"
    }
   ],
   "source": [
    "np.reciprocal(2.)\n"
   ]
  },
  {
   "cell_type": "code",
   "execution_count": 12,
   "id": "f91026dc",
   "metadata": {},
   "outputs": [
    {
     "data": {
      "text/plain": [
       "array([1.       , 0.5      , 0.3003003])"
      ]
     },
     "execution_count": 12,
     "metadata": {},
     "output_type": "execute_result"
    }
   ],
   "source": [
    "\n",
    "np.reciprocal([1, 2., 3.33])"
   ]
  },
  {
   "cell_type": "markdown",
   "id": "d11ccfe2",
   "metadata": {},
   "source": [
    "## gcd() method\n",
    "\n",
    "Returns the greatest common divisor of |x1| and |x2|\n"
   ]
  },
  {
   "cell_type": "code",
   "execution_count": 13,
   "id": "28448cc7",
   "metadata": {},
   "outputs": [
    {
     "data": {
      "text/plain": [
       "4"
      ]
     },
     "execution_count": 13,
     "metadata": {},
     "output_type": "execute_result"
    }
   ],
   "source": [
    "np.gcd(12,20)"
   ]
  },
  {
   "cell_type": "code",
   "execution_count": 15,
   "id": "b1676fd1",
   "metadata": {},
   "outputs": [
    {
     "data": {
      "text/plain": [
       "5"
      ]
     },
     "execution_count": 15,
     "metadata": {},
     "output_type": "execute_result"
    }
   ],
   "source": [
    "np.gcd.reduce([15, 25, 35])"
   ]
  },
  {
   "cell_type": "code",
   "execution_count": 18,
   "id": "83273dd1",
   "metadata": {},
   "outputs": [
    {
     "data": {
      "text/plain": [
       "array([10,  1,  2,  1,  2,  5])"
      ]
     },
     "execution_count": 18,
     "metadata": {},
     "output_type": "execute_result"
    }
   ],
   "source": [
    "np.gcd(np.arange(6), 10)"
   ]
  },
  {
   "cell_type": "markdown",
   "id": "37708780",
   "metadata": {},
   "source": [
    "## lcm() method \n",
    "\n",
    "Returns the lowest common multiple of |x1| and |x2|"
   ]
  },
  {
   "cell_type": "code",
   "execution_count": 19,
   "id": "406618b3",
   "metadata": {},
   "outputs": [
    {
     "data": {
      "text/plain": [
       "60"
      ]
     },
     "execution_count": 19,
     "metadata": {},
     "output_type": "execute_result"
    }
   ],
   "source": [
    "np.lcm(12, 20)\n"
   ]
  },
  {
   "cell_type": "code",
   "execution_count": 20,
   "id": "d4ba5e2d",
   "metadata": {},
   "outputs": [
    {
     "data": {
      "text/plain": [
       "60"
      ]
     },
     "execution_count": 20,
     "metadata": {},
     "output_type": "execute_result"
    }
   ],
   "source": [
    "np.lcm.reduce([3, 12, 20])"
   ]
  },
  {
   "cell_type": "code",
   "execution_count": 21,
   "id": "c2e46dbc",
   "metadata": {},
   "outputs": [
    {
     "data": {
      "text/plain": [
       "120"
      ]
     },
     "execution_count": 21,
     "metadata": {},
     "output_type": "execute_result"
    }
   ],
   "source": [
    "np.lcm.reduce([40, 12, 20])"
   ]
  },
  {
   "cell_type": "code",
   "execution_count": 22,
   "id": "380c99e7",
   "metadata": {},
   "outputs": [
    {
     "data": {
      "text/plain": [
       "array([ 0, 20, 20, 60, 20, 20])"
      ]
     },
     "execution_count": 22,
     "metadata": {},
     "output_type": "execute_result"
    }
   ],
   "source": [
    "np.lcm(np.arange(6), 20)"
   ]
  },
  {
   "cell_type": "code",
   "execution_count": null,
   "id": "18e1a069",
   "metadata": {},
   "outputs": [],
   "source": []
  }
 ],
 "metadata": {
  "kernelspec": {
   "display_name": "Python 3",
   "language": "python",
   "name": "python3"
  },
  "language_info": {
   "codemirror_mode": {
    "name": "ipython",
    "version": 3
   },
   "file_extension": ".py",
   "mimetype": "text/x-python",
   "name": "python",
   "nbconvert_exporter": "python",
   "pygments_lexer": "ipython3",
   "version": "3.7.5"
  }
 },
 "nbformat": 4,
 "nbformat_minor": 5
}
