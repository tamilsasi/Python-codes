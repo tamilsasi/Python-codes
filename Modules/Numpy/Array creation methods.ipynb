{
 "cells": [
  {
   "cell_type": "markdown",
   "id": "60e9470f",
   "metadata": {},
   "source": [
    "# Testing the installation"
   ]
  },
  {
   "cell_type": "code",
   "execution_count": 2,
   "id": "a872c74f",
   "metadata": {},
   "outputs": [],
   "source": [
    "import numpy as np\n"
   ]
  },
  {
   "cell_type": "markdown",
   "id": "823199ab",
   "metadata": {},
   "source": [
    "# create an array"
   ]
  },
  {
   "cell_type": "code",
   "execution_count": 3,
   "id": "0dd44ea7",
   "metadata": {},
   "outputs": [
    {
     "name": "stdout",
     "output_type": "stream",
     "text": [
      "one dimensional array:\n",
      " [1 2 3 4]\n",
      "two dimensional array:\n",
      " [[1 2 3]\n",
      " [5 4 3]\n",
      " [6 7 4]]\n"
     ]
    }
   ],
   "source": [
    "\n",
    "#one dimensional array\n",
    "a = np.array([1,2,3,4])\n",
    "print(\"one dimensional array:\\n\",a)\n",
    "\n",
    "# two dimensional array\n",
    "b = np.array([[1,2,3],[5,4,3],[6,7,4]])\n",
    "print(\"two dimensional array:\\n\",b)"
   ]
  },
  {
   "cell_type": "markdown",
   "id": "c10685eb",
   "metadata": {},
   "source": [
    "# create array with Data type option"
   ]
  },
  {
   "cell_type": "code",
   "execution_count": 4,
   "id": "b0e290dc",
   "metadata": {},
   "outputs": [
    {
     "data": {
      "text/plain": [
       "array([[ True,  True,  True],\n",
       "       [ True,  True, False]])"
      ]
     },
     "execution_count": 4,
     "metadata": {},
     "output_type": "execute_result"
    }
   ],
   "source": [
    "c = np.array([[5,4,-3],[2,4,0]],dtype=bool)\n",
    "c"
   ]
  },
  {
   "cell_type": "markdown",
   "id": "5d8b3318",
   "metadata": {},
   "source": [
    " # Intrinsic creation of array\n",
    " \n",
    "## single line of code to generate large amounts of data \n",
    "\n",
    "## by default below two functions created array with float64 data type\n",
    "\n",
    "\n",
    "## zeros() funcion"
   ]
  },
  {
   "cell_type": "code",
   "execution_count": 38,
   "id": "b827aa9b",
   "metadata": {},
   "outputs": [
    {
     "data": {
      "text/plain": [
       "array([[0., 0., 0.],\n",
       "       [0., 0., 0.],\n",
       "       [0., 0., 0.]])"
      ]
     },
     "execution_count": 38,
     "metadata": {},
     "output_type": "execute_result"
    }
   ],
   "source": [
    "np.zeros((3,3))"
   ]
  },
  {
   "cell_type": "markdown",
   "id": "decceeba",
   "metadata": {},
   "source": [
    "# ones() funcion"
   ]
  },
  {
   "cell_type": "code",
   "execution_count": 39,
   "id": "07415dfc",
   "metadata": {},
   "outputs": [
    {
     "data": {
      "text/plain": [
       "array([[1., 1., 1.],\n",
       "       [1., 1., 1.],\n",
       "       [1., 1., 1.]])"
      ]
     },
     "execution_count": 39,
     "metadata": {},
     "output_type": "execute_result"
    }
   ],
   "source": [
    "np.ones((3,3))\n"
   ]
  },
  {
   "cell_type": "markdown",
   "id": "587db166",
   "metadata": {},
   "source": [
    "# arange() function 1D array"
   ]
  },
  {
   "cell_type": "code",
   "execution_count": 5,
   "id": "3ce920cc",
   "metadata": {},
   "outputs": [
    {
     "data": {
      "text/plain": [
       "array([0, 1, 2, 3, 4, 5, 6, 7, 8, 9])"
      ]
     },
     "execution_count": 5,
     "metadata": {},
     "output_type": "execute_result"
    }
   ],
   "source": [
    "np.arange(0,10)"
   ]
  },
  {
   "cell_type": "code",
   "execution_count": 41,
   "id": "c8eddeba",
   "metadata": {},
   "outputs": [
    {
     "data": {
      "text/plain": [
       "array([3, 4, 5, 6])"
      ]
     },
     "execution_count": 41,
     "metadata": {},
     "output_type": "execute_result"
    }
   ],
   "source": [
    "np.arange(3,7)"
   ]
  },
  {
   "cell_type": "code",
   "execution_count": 44,
   "id": "48596b4e",
   "metadata": {},
   "outputs": [
    {
     "data": {
      "text/plain": [
       "array([ 0,  3,  6,  9, 12])"
      ]
     },
     "execution_count": 44,
     "metadata": {},
     "output_type": "execute_result"
    }
   ],
   "source": [
    "np.arange(0,15,3)"
   ]
  },
  {
   "cell_type": "markdown",
   "id": "015db93d",
   "metadata": {},
   "source": [
    "\n",
    "# arange() function 2D array with reshape() functoin"
   ]
  },
  {
   "cell_type": "code",
   "execution_count": 6,
   "id": "9503c45f",
   "metadata": {},
   "outputs": [
    {
     "data": {
      "text/plain": [
       "array([[ 0,  1,  2,  3],\n",
       "       [ 4,  5,  6,  7],\n",
       "       [ 8,  9, 10, 11]])"
      ]
     },
     "execution_count": 6,
     "metadata": {},
     "output_type": "execute_result"
    }
   ],
   "source": [
    "np.arange(0,12).reshape(3,4)"
   ]
  },
  {
   "cell_type": "markdown",
   "id": "0a1f066d",
   "metadata": {},
   "source": [
    "# linspace() function\n",
    "\n",
    "### first two arguments takes as initial and end value of sequence and third argument as split the distance\n"
   ]
  },
  {
   "cell_type": "code",
   "execution_count": 56,
   "id": "67b3f894",
   "metadata": {},
   "outputs": [
    {
     "data": {
      "text/plain": [
       "array([ 0. ,  2.5,  5. ,  7.5, 10. ])"
      ]
     },
     "execution_count": 56,
     "metadata": {},
     "output_type": "execute_result"
    }
   ],
   "source": [
    "np.linspace(0,10,5)"
   ]
  },
  {
   "cell_type": "markdown",
   "id": "a43e837e",
   "metadata": {},
   "source": [
    "# random() function"
   ]
  },
  {
   "cell_type": "code",
   "execution_count": 59,
   "id": "8e84fae9",
   "metadata": {},
   "outputs": [
    {
     "data": {
      "text/plain": [
       "array([[0.63403955, 0.10757966, 0.10241275],\n",
       "       [0.50277694, 0.5793173 , 0.45892887]])"
      ]
     },
     "execution_count": 59,
     "metadata": {},
     "output_type": "execute_result"
    }
   ],
   "source": [
    "np.random.random((2,3))"
   ]
  },
  {
   "cell_type": "code",
   "execution_count": null,
   "id": "7c60d10c",
   "metadata": {},
   "outputs": [],
   "source": []
  }
 ],
 "metadata": {
  "kernelspec": {
   "display_name": "Python 3",
   "language": "python",
   "name": "python3"
  },
  "language_info": {
   "codemirror_mode": {
    "name": "ipython",
    "version": 3
   },
   "file_extension": ".py",
   "mimetype": "text/x-python",
   "name": "python",
   "nbconvert_exporter": "python",
   "pygments_lexer": "ipython3",
   "version": "3.7.5"
  }
 },
 "nbformat": 4,
 "nbformat_minor": 5
}
