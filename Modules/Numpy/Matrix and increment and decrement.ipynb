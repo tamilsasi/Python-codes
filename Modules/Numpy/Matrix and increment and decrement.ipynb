{
 "cells": [
  {
   "cell_type": "markdown",
   "id": "97e8dcf2",
   "metadata": {},
   "source": [
    "# The matrix product\n",
    "\n",
    "## The dot() function\n"
   ]
  },
  {
   "cell_type": "code",
   "execution_count": 3,
   "id": "025260f7",
   "metadata": {},
   "outputs": [
    {
     "data": {
      "text/plain": [
       "array([[ 3.,  3.,  3.],\n",
       "       [12., 12., 12.],\n",
       "       [21., 21., 21.]])"
      ]
     },
     "execution_count": 3,
     "metadata": {},
     "output_type": "execute_result"
    }
   ],
   "source": [
    "import numpy as np\n",
    "a=np.arange(0,9).reshape(3,3)\n",
    "b=np.ones((3,3))\n",
    "\n",
    "# one method\n",
    "np.dot(a,b)\n",
    "\n",
    "# second method\n",
    "a.dot(b)"
   ]
  },
  {
   "cell_type": "markdown",
   "id": "b7c43a03",
   "metadata": {},
   "source": [
    "# Increment operators"
   ]
  },
  {
   "cell_type": "code",
   "execution_count": 5,
   "id": "a6e62d17",
   "metadata": {},
   "outputs": [
    {
     "data": {
      "text/plain": [
       "array([3, 4, 5, 6])"
      ]
     },
     "execution_count": 5,
     "metadata": {},
     "output_type": "execute_result"
    }
   ],
   "source": [
    "c=np.arange(4)\n",
    "c+=3\n",
    "c"
   ]
  },
  {
   "cell_type": "markdown",
   "id": "b4659b4f",
   "metadata": {},
   "source": [
    "# Decrement operators"
   ]
  },
  {
   "cell_type": "code",
   "execution_count": 6,
   "id": "8cf32880",
   "metadata": {},
   "outputs": [
    {
     "data": {
      "text/plain": [
       "array([1, 2, 3, 4])"
      ]
     },
     "execution_count": 6,
     "metadata": {},
     "output_type": "execute_result"
    }
   ],
   "source": [
    "d=np.arange(3,7)\n",
    "d-=2\n",
    "d"
   ]
  }
 ],
 "metadata": {
  "kernelspec": {
   "display_name": "Python 3",
   "language": "python",
   "name": "python3"
  },
  "language_info": {
   "codemirror_mode": {
    "name": "ipython",
    "version": 3
   },
   "file_extension": ".py",
   "mimetype": "text/x-python",
   "name": "python",
   "nbconvert_exporter": "python",
   "pygments_lexer": "ipython3",
   "version": "3.7.5"
  }
 },
 "nbformat": 4,
 "nbformat_minor": 5
}
