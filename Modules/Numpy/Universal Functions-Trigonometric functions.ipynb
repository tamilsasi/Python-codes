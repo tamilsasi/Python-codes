{
 "cells": [
  {
   "cell_type": "markdown",
   "id": "af6016ca",
   "metadata": {},
   "source": [
    "# Trigonometric functions"
   ]
  },
  {
   "cell_type": "markdown",
   "id": "f3fc8aab",
   "metadata": {},
   "source": [
    "## sin() method\n",
    "\n",
    "Trigonometric sine, element-wise.\n",
    "\n"
   ]
  },
  {
   "cell_type": "code",
   "execution_count": 2,
   "id": "0844e8de",
   "metadata": {},
   "outputs": [
    {
     "data": {
      "text/plain": [
       "0.8939966636005579"
      ]
     },
     "execution_count": 2,
     "metadata": {},
     "output_type": "execute_result"
    }
   ],
   "source": [
    "import numpy as np\n",
    "np.sin(90)"
   ]
  },
  {
   "cell_type": "code",
   "execution_count": 3,
   "id": "4479dae0",
   "metadata": {},
   "outputs": [
    {
     "data": {
      "text/plain": [
       "1.0"
      ]
     },
     "execution_count": 3,
     "metadata": {},
     "output_type": "execute_result"
    }
   ],
   "source": [
    "np.sin(np.pi/2)"
   ]
  },
  {
   "cell_type": "code",
   "execution_count": 4,
   "id": "6e9a023e",
   "metadata": {},
   "outputs": [
    {
     "data": {
      "text/plain": [
       "array([0.        , 0.5       , 0.70710678, 0.8660254 , 1.        ])"
      ]
     },
     "execution_count": 4,
     "metadata": {},
     "output_type": "execute_result"
    }
   ],
   "source": [
    "np.sin(np.array((0., 30., 45., 60., 90.)) * np.pi / 180. )\n"
   ]
  },
  {
   "cell_type": "markdown",
   "id": "7c2c9e60",
   "metadata": {},
   "source": [
    "## Plot the sine function:\n",
    "\n"
   ]
  },
  {
   "cell_type": "code",
   "execution_count": 6,
   "id": "a1c82940",
   "metadata": {
    "scrolled": true
   },
   "outputs": [
    {
     "data": {
      "image/png": "[encoded data removed]",
      "text/plain": [
       "<Figure size 432x288 with 1 Axes>"
      ]
     },
     "metadata": {
      "needs_background": "light"
     },
     "output_type": "display_data"
    }
   ],
   "source": [
    "import matplotlib.pylab as plt\n",
    "x = np.linspace(-np.pi, np.pi, 201)\n",
    "plt.plot(x, np.sin(x))\n",
    "plt.xlabel('Angle [rad]')\n",
    "plt.ylabel('sin(x)')\n",
    "plt.axis('tight')\n",
    "plt.show()"
   ]
  },
  {
   "cell_type": "markdown",
   "id": "5945d5b2",
   "metadata": {},
   "source": [
    "## cos() method\n",
    "\n",
    "Cosine element-wise.\n",
    "\n"
   ]
  },
  {
   "cell_type": "code",
   "execution_count": 7,
   "id": "78544888",
   "metadata": {},
   "outputs": [
    {
     "data": {
      "text/plain": [
       "array([ 1.000000e+00,  6.123234e-17, -1.000000e+00])"
      ]
     },
     "execution_count": 7,
     "metadata": {},
     "output_type": "execute_result"
    }
   ],
   "source": [
    "np.cos(np.array([0, np.pi/2, np.pi]))\n"
   ]
  },
  {
   "cell_type": "code",
   "execution_count": 10,
   "id": "32a27178",
   "metadata": {},
   "outputs": [
    {
     "data": {
      "text/plain": [
       "True"
      ]
     },
     "execution_count": 10,
     "metadata": {},
     "output_type": "execute_result"
    }
   ],
   "source": [
    "# Example of providing the optional output parameter\n",
    "out1 = np.array([0], dtype='d')\n",
    "out2 = np.cos([0.1], out1)\n",
    "out2 is out1"
   ]
  },
  {
   "cell_type": "code",
   "execution_count": 11,
   "id": "e446e915",
   "metadata": {},
   "outputs": [
    {
     "ename": "ValueError",
     "evalue": "operands could not be broadcast together with shapes (3,3) (2,2) ",
     "output_type": "error",
     "traceback": [
      "\u001b[1;31m---------------------------------------------------------------------------\u001b[0m",
      "\u001b[1;31mValueError\u001b[0m                                Traceback (most recent call last)",
      "\u001b[1;32m<ipython-input-11-7862fbe293b9>\u001b[0m in \u001b[0;36m<module>\u001b[1;34m\u001b[0m\n\u001b[0;32m      1\u001b[0m \u001b[1;31m# Example of ValueError due to provision of shape mis-matched `out`\u001b[0m\u001b[1;33m\u001b[0m\u001b[1;33m\u001b[0m\u001b[1;33m\u001b[0m\u001b[0m\n\u001b[1;32m----> 2\u001b[1;33m \u001b[0mnp\u001b[0m\u001b[1;33m.\u001b[0m\u001b[0mcos\u001b[0m\u001b[1;33m(\u001b[0m\u001b[0mnp\u001b[0m\u001b[1;33m.\u001b[0m\u001b[0mzeros\u001b[0m\u001b[1;33m(\u001b[0m\u001b[1;33m(\u001b[0m\u001b[1;36m3\u001b[0m\u001b[1;33m,\u001b[0m\u001b[1;36m3\u001b[0m\u001b[1;33m)\u001b[0m\u001b[1;33m)\u001b[0m\u001b[1;33m,\u001b[0m\u001b[0mnp\u001b[0m\u001b[1;33m.\u001b[0m\u001b[0mzeros\u001b[0m\u001b[1;33m(\u001b[0m\u001b[1;33m(\u001b[0m\u001b[1;36m2\u001b[0m\u001b[1;33m,\u001b[0m\u001b[1;36m2\u001b[0m\u001b[1;33m)\u001b[0m\u001b[1;33m)\u001b[0m\u001b[1;33m)\u001b[0m\u001b[1;33m\u001b[0m\u001b[1;33m\u001b[0m\u001b[0m\n\u001b[0m",
      "\u001b[1;31mValueError\u001b[0m: operands could not be broadcast together with shapes (3,3) (2,2) "
     ]
    }
   ],
   "source": [
    "# Example of ValueError due to provision of shape mis-matched `out`\n",
    "np.cos(np.zeros((3,3)),np.zeros((2,2)))"
   ]
  },
  {
   "cell_type": "markdown",
   "id": "06b8e56d",
   "metadata": {},
   "source": [
    "## tan() method\n",
    "\n",
    "Compute tangent element-wise.\n",
    "\n",
    "Equivalent to np.sin(x)/np.cos(x) element-wise."
   ]
  },
  {
   "cell_type": "code",
   "execution_count": 12,
   "id": "a7e019ee",
   "metadata": {},
   "outputs": [
    {
     "data": {
      "text/plain": [
       "array([ 1.22464680e-16,  1.63312394e+16, -1.22464680e-16])"
      ]
     },
     "execution_count": 12,
     "metadata": {},
     "output_type": "execute_result"
    }
   ],
   "source": [
    "from math import pi\n",
    "np.tan(np.array([-pi,pi/2,pi]))"
   ]
  },
  {
   "cell_type": "markdown",
   "id": "c27d80cf",
   "metadata": {},
   "source": [
    "## arcsin() method\n",
    "\n",
    "Inverse sine, element-wise.\n",
    "\n"
   ]
  },
  {
   "cell_type": "code",
   "execution_count": 15,
   "id": "0d6e8b0c",
   "metadata": {},
   "outputs": [
    {
     "data": {
      "text/plain": [
       "1.5707963267948966"
      ]
     },
     "execution_count": 15,
     "metadata": {},
     "output_type": "execute_result"
    }
   ],
   "source": [
    "np.arcsin(1)     # pi/2"
   ]
  },
  {
   "cell_type": "code",
   "execution_count": 16,
   "id": "da0dd28c",
   "metadata": {},
   "outputs": [
    {
     "data": {
      "text/plain": [
       "-1.5707963267948966"
      ]
     },
     "execution_count": 16,
     "metadata": {},
     "output_type": "execute_result"
    }
   ],
   "source": [
    "np.arcsin(-1)    # -pi/2\n"
   ]
  },
  {
   "cell_type": "code",
   "execution_count": 17,
   "id": "c07271bd",
   "metadata": {},
   "outputs": [
    {
     "data": {
      "text/plain": [
       "0.0"
      ]
     },
     "execution_count": 17,
     "metadata": {},
     "output_type": "execute_result"
    }
   ],
   "source": [
    "np.arcsin(0)"
   ]
  },
  {
   "cell_type": "markdown",
   "id": "8dbd5476",
   "metadata": {},
   "source": [
    "## arccos() method\n",
    "\n",
    "Trigonometric inverse cosine, element-wise.\n",
    "\n",
    "The inverse of cos so that, if y = cos(x), then x = arccos(y)."
   ]
  },
  {
   "cell_type": "code",
   "execution_count": 19,
   "id": "4c277ccf",
   "metadata": {},
   "outputs": [
    {
     "data": {
      "text/plain": [
       "array([0.        , 3.14159265])"
      ]
     },
     "execution_count": 19,
     "metadata": {},
     "output_type": "execute_result"
    }
   ],
   "source": [
    "# We expect the arccos of 1 to be 0, and of -1 to be pi:\n",
    "\n",
    "np.arccos([1,-1])\n"
   ]
  },
  {
   "cell_type": "code",
   "execution_count": 20,
   "id": "b729a451",
   "metadata": {},
   "outputs": [
    {
     "data": {
      "image/png": "[encoded data removed]",
      "text/plain": [
       "<Figure size 432x288 with 1 Axes>"
      ]
     },
     "metadata": {
      "needs_background": "light"
     },
     "output_type": "display_data"
    }
   ],
   "source": [
    "import matplotlib.pyplot as plt\n",
    "x = np.linspace(-1, 1, num=100)\n",
    "plt.plot(x, np.arccos(x))\n",
    "plt.axis('tight')\n",
    "plt.show()"
   ]
  },
  {
   "cell_type": "markdown",
   "id": "282852f3",
   "metadata": {},
   "source": [
    "## arctan() method\n",
    "\n",
    "Trigonometric inverse tangent, element-wise.\n",
    "\n",
    "The inverse of tan, so that if y = tan(x) then x = arctan(y)."
   ]
  },
  {
   "cell_type": "code",
   "execution_count": 24,
   "id": "0e0313ee",
   "metadata": {},
   "outputs": [
    {
     "data": {
      "text/plain": [
       "array([0.        , 0.78539816])"
      ]
     },
     "execution_count": 24,
     "metadata": {},
     "output_type": "execute_result"
    }
   ],
   "source": [
    "np.arctan([0, 1])"
   ]
  },
  {
   "cell_type": "code",
   "execution_count": 25,
   "id": "75d51b8f",
   "metadata": {},
   "outputs": [
    {
     "data": {
      "text/plain": [
       "0.7853981633974483"
      ]
     },
     "execution_count": 25,
     "metadata": {},
     "output_type": "execute_result"
    }
   ],
   "source": [
    "np.pi/4"
   ]
  },
  {
   "cell_type": "markdown",
   "id": "0658870b",
   "metadata": {},
   "source": [
    "## Plot arctan:\n",
    "\n"
   ]
  },
  {
   "cell_type": "code",
   "execution_count": 26,
   "id": "ae1055fb",
   "metadata": {},
   "outputs": [
    {
     "data": {
      "image/png": "[encoded data removed]",
      "text/plain": [
       "<Figure size 432x288 with 1 Axes>"
      ]
     },
     "metadata": {
      "needs_background": "light"
     },
     "output_type": "display_data"
    }
   ],
   "source": [
    "import matplotlib.pyplot as plt\n",
    "x = np.linspace(-10, 10)\n",
    "plt.plot(x, np.arctan(x))\n",
    "plt.axis('tight')\n",
    "plt.show()"
   ]
  },
  {
   "cell_type": "markdown",
   "id": "a9a748f8",
   "metadata": {},
   "source": [
    "## arctan2() method\n",
    "\n",
    "Element-wise arc tangent of x1/x2 choosing the quadrant correctly.\n",
    "\n"
   ]
  },
  {
   "cell_type": "code",
   "execution_count": 27,
   "id": "fcf59293",
   "metadata": {},
   "outputs": [
    {
     "data": {
      "text/plain": [
       "array([-135.,  -45.,   45.,  135.])"
      ]
     },
     "execution_count": 27,
     "metadata": {},
     "output_type": "execute_result"
    }
   ],
   "source": [
    "x = np.array([-1, +1, +1, -1])\n",
    "y = np.array([-1, -1, +1, +1])\n",
    "np.arctan2(y, x) * 180 / np.pi"
   ]
  },
  {
   "cell_type": "code",
   "execution_count": 28,
   "id": "5e14ba78",
   "metadata": {},
   "outputs": [
    {
     "data": {
      "text/plain": [
       "array([ 1.57079633, -1.57079633])"
      ]
     },
     "execution_count": 28,
     "metadata": {},
     "output_type": "execute_result"
    }
   ],
   "source": [
    "np.arctan2([1., -1.], [0., 0.])\n"
   ]
  },
  {
   "cell_type": "code",
   "execution_count": 29,
   "id": "f94a7e19",
   "metadata": {},
   "outputs": [
    {
     "data": {
      "text/plain": [
       "array([0.        , 3.14159265, 0.78539816])"
      ]
     },
     "execution_count": 29,
     "metadata": {},
     "output_type": "execute_result"
    }
   ],
   "source": [
    "np.arctan2([0., 0., np.inf], [+0., -0., np.inf])\n"
   ]
  },
  {
   "cell_type": "markdown",
   "id": "ff1d0848",
   "metadata": {},
   "source": [
    "## hypot() method\n",
    "\n",
    "Given the “legs” of a right triangle, return its hypotenuse.\n",
    "\n",
    "Equivalent to sqrt(x1**2 + x2**2), element-wise. If x1 or x2 is scalar_like (i.e., unambiguously cast-able to a scalar type), it is broadcast for use with each element of the other argument. (See Examples)"
   ]
  },
  {
   "cell_type": "code",
   "execution_count": 31,
   "id": "3a954727",
   "metadata": {},
   "outputs": [
    {
     "data": {
      "text/plain": [
       "array([[5., 5., 5.],\n",
       "       [5., 5., 5.],\n",
       "       [5., 5., 5.]])"
      ]
     },
     "execution_count": 31,
     "metadata": {},
     "output_type": "execute_result"
    }
   ],
   "source": [
    "np.hypot(3*np.ones((3, 3)), 4*np.ones((3, 3)))\n"
   ]
  },
  {
   "cell_type": "code",
   "execution_count": 32,
   "id": "31f92967",
   "metadata": {},
   "outputs": [
    {
     "data": {
      "text/plain": [
       "array([[5., 5., 5.],\n",
       "       [5., 5., 5.],\n",
       "       [5., 5., 5.]])"
      ]
     },
     "execution_count": 32,
     "metadata": {},
     "output_type": "execute_result"
    }
   ],
   "source": [
    "np.hypot(3*np.ones((3, 3)), [4])\n"
   ]
  },
  {
   "cell_type": "markdown",
   "id": "a19a38ba",
   "metadata": {},
   "source": [
    "## sinh() method\n",
    "\n",
    "Hyperbolic sine, element-wise.\n",
    "\n",
    "Equivalent to 1/2 * (np.exp(x) - np.exp(-x)) or -1j * np.sin(1j*x)."
   ]
  },
  {
   "cell_type": "code",
   "execution_count": 39,
   "id": "46af9d0e",
   "metadata": {},
   "outputs": [
    {
     "data": {
      "text/plain": [
       "0.0"
      ]
     },
     "execution_count": 39,
     "metadata": {},
     "output_type": "execute_result"
    }
   ],
   "source": [
    "np.sinh(0)"
   ]
  },
  {
   "cell_type": "code",
   "execution_count": 40,
   "id": "97e5a563",
   "metadata": {},
   "outputs": [
    {
     "data": {
      "text/plain": [
       "1j"
      ]
     },
     "execution_count": 40,
     "metadata": {},
     "output_type": "execute_result"
    }
   ],
   "source": [
    "np.sinh(np.pi*1j/2)"
   ]
  },
  {
   "cell_type": "code",
   "execution_count": 41,
   "id": "e0f53490",
   "metadata": {},
   "outputs": [
    {
     "data": {
      "text/plain": [
       "(-0+1.2246467991473532e-16j)"
      ]
     },
     "execution_count": 41,
     "metadata": {},
     "output_type": "execute_result"
    }
   ],
   "source": [
    "np.sinh(np.pi*1j) # (exact value is 0)"
   ]
  },
  {
   "cell_type": "markdown",
   "id": "23b9d8ba",
   "metadata": {},
   "source": [
    "## cosh() method\n",
    "\n",
    "Hyperbolic cosine, element-wise.\n",
    "\n",
    "Equivalent to 1/2 * (np.exp(x) + np.exp(-x)) and np.cos(1j*x)."
   ]
  },
  {
   "cell_type": "code",
   "execution_count": 42,
   "id": "ec7bbca6",
   "metadata": {},
   "outputs": [
    {
     "data": {
      "text/plain": [
       "1.0"
      ]
     },
     "execution_count": 42,
     "metadata": {},
     "output_type": "execute_result"
    }
   ],
   "source": [
    "np.cosh(0)"
   ]
  },
  {
   "cell_type": "code",
   "execution_count": 43,
   "id": "25bc6bca",
   "metadata": {},
   "outputs": [
    {
     "data": {
      "image/png": "[encoded data removed]",
      "text/plain": [
       "<Figure size 432x288 with 1 Axes>"
      ]
     },
     "metadata": {
      "needs_background": "light"
     },
     "output_type": "display_data"
    }
   ],
   "source": [
    "import matplotlib.pyplot as plt\n",
    "x = np.linspace(-4, 4, 1000)\n",
    "plt.plot(x, np.cosh(x))\n",
    "plt.show()"
   ]
  },
  {
   "cell_type": "markdown",
   "id": "118831dc",
   "metadata": {},
   "source": [
    "## tanh() method\n",
    "\n",
    "Compute hyperbolic tangent element-wise.\n",
    "\n",
    "Equivalent to np.sinh(x)/np.cosh(x) or -1j * np.tan(1j*x)."
   ]
  },
  {
   "cell_type": "code",
   "execution_count": 44,
   "id": "e24a206e",
   "metadata": {},
   "outputs": [
    {
     "data": {
      "text/plain": [
       "array([0.+0.00000000e+00j, 0.-1.22464680e-16j, 0.+1.63312394e+16j])"
      ]
     },
     "execution_count": 44,
     "metadata": {},
     "output_type": "execute_result"
    }
   ],
   "source": [
    "np.tanh((0, np.pi*1j, np.pi*1j/2))\n"
   ]
  },
  {
   "cell_type": "markdown",
   "id": "be0507c6",
   "metadata": {},
   "source": [
    "## arcsinh() method\n",
    "\n",
    "Inverse hyperbolic sine element-wise.\n",
    "\n"
   ]
  },
  {
   "cell_type": "code",
   "execution_count": 45,
   "id": "9a5eded4",
   "metadata": {},
   "outputs": [
    {
     "data": {
      "text/plain": [
       "array([1.72538256, 2.99822295])"
      ]
     },
     "execution_count": 45,
     "metadata": {},
     "output_type": "execute_result"
    }
   ],
   "source": [
    "np.arcsinh(np.array([np.e, 10.0]))\n"
   ]
  },
  {
   "cell_type": "markdown",
   "id": "48c7ea8c",
   "metadata": {},
   "source": [
    "## arccosh() method\n",
    "\n",
    "Inverse hyperbolic cosine, element-wise.\n",
    "\n"
   ]
  },
  {
   "cell_type": "code",
   "execution_count": 46,
   "id": "817b66e7",
   "metadata": {},
   "outputs": [
    {
     "data": {
      "text/plain": [
       "array([1.65745445, 2.99322285])"
      ]
     },
     "execution_count": 46,
     "metadata": {},
     "output_type": "execute_result"
    }
   ],
   "source": [
    "np.arccosh([np.e, 10.0])\n"
   ]
  },
  {
   "cell_type": "code",
   "execution_count": 47,
   "id": "24c7e481",
   "metadata": {},
   "outputs": [
    {
     "data": {
      "text/plain": [
       "0.0"
      ]
     },
     "execution_count": 47,
     "metadata": {},
     "output_type": "execute_result"
    }
   ],
   "source": [
    "np.arccosh(1)"
   ]
  },
  {
   "cell_type": "markdown",
   "id": "4b769519",
   "metadata": {},
   "source": [
    "## arctanh() method\n",
    "\n",
    "Inverse hyperbolic tangent element-wise.\n",
    "\n"
   ]
  },
  {
   "cell_type": "code",
   "execution_count": 48,
   "id": "98fefc37",
   "metadata": {},
   "outputs": [
    {
     "data": {
      "text/plain": [
       "array([ 0.        , -0.54930614])"
      ]
     },
     "execution_count": 48,
     "metadata": {},
     "output_type": "execute_result"
    }
   ],
   "source": [
    "np.arctanh([0, -0.5])\n"
   ]
  },
  {
   "cell_type": "markdown",
   "id": "e5e51113",
   "metadata": {},
   "source": [
    "## degrees() method\n",
    "\n",
    "Convert angles from radians to degrees.\n",
    "\n"
   ]
  },
  {
   "cell_type": "code",
   "execution_count": 51,
   "id": "6518485d",
   "metadata": {},
   "outputs": [
    {
     "data": {
      "text/plain": [
       "array([  0.,  30.,  60.,  90., 120., 150., 180., 210., 240., 270., 300.,\n",
       "       330.])"
      ]
     },
     "execution_count": 51,
     "metadata": {},
     "output_type": "execute_result"
    }
   ],
   "source": [
    "rad = np.arange(12.)*np.pi/6\n",
    "np.degrees(rad)\n"
   ]
  },
  {
   "cell_type": "code",
   "execution_count": 52,
   "id": "a2e1f183",
   "metadata": {},
   "outputs": [
    {
     "data": {
      "text/plain": [
       "True"
      ]
     },
     "execution_count": 52,
     "metadata": {},
     "output_type": "execute_result"
    }
   ],
   "source": [
    "out = np.zeros((rad.shape))\n",
    "r = np.degrees(rad, out)\n",
    "np.all(r == out)"
   ]
  },
  {
   "cell_type": "markdown",
   "id": "aa754bc5",
   "metadata": {},
   "source": [
    "## radians() method\n",
    "\n",
    "Convert angles from degrees to radians.\n",
    "\n"
   ]
  },
  {
   "cell_type": "code",
   "execution_count": 53,
   "id": "ed821927",
   "metadata": {},
   "outputs": [
    {
     "data": {
      "text/plain": [
       "array([0.        , 0.52359878, 1.04719755, 1.57079633, 2.0943951 ,\n",
       "       2.61799388, 3.14159265, 3.66519143, 4.1887902 , 4.71238898,\n",
       "       5.23598776, 5.75958653])"
      ]
     },
     "execution_count": 53,
     "metadata": {},
     "output_type": "execute_result"
    }
   ],
   "source": [
    "deg = np.arange(12.) * 30.\n",
    "np.radians(deg)"
   ]
  },
  {
   "cell_type": "code",
   "execution_count": 54,
   "id": "1ee66f19",
   "metadata": {},
   "outputs": [
    {
     "data": {
      "text/plain": [
       "True"
      ]
     },
     "execution_count": 54,
     "metadata": {},
     "output_type": "execute_result"
    }
   ],
   "source": [
    "out = np.zeros((deg.shape))\n",
    "ret = np.radians(deg, out)\n",
    "ret is out"
   ]
  },
  {
   "cell_type": "markdown",
   "id": "ec7fd91b",
   "metadata": {},
   "source": [
    "## deg2rad() method\n",
    "\n",
    "Convert angles from degrees to radians.\n",
    "\n",
    "deg2rad(x) is x * pi / 180.\n",
    "\n",
    "\n",
    "\n"
   ]
  },
  {
   "cell_type": "code",
   "execution_count": 55,
   "id": "e7965b4a",
   "metadata": {},
   "outputs": [
    {
     "data": {
      "text/plain": [
       "3.141592653589793"
      ]
     },
     "execution_count": 55,
     "metadata": {},
     "output_type": "execute_result"
    }
   ],
   "source": [
    "np.deg2rad(180)\n"
   ]
  },
  {
   "cell_type": "markdown",
   "id": "9d96ea09",
   "metadata": {},
   "source": [
    "## rad2deg() method\n",
    "\n",
    "Convert angles from radians to degrees.\n",
    "\n",
    "rad2deg(x) is 180 * x / pi.\n",
    "\n",
    "\n"
   ]
  },
  {
   "cell_type": "code",
   "execution_count": 56,
   "id": "1bf3b8e6",
   "metadata": {},
   "outputs": [
    {
     "data": {
      "text/plain": [
       "90.0"
      ]
     },
     "execution_count": 56,
     "metadata": {},
     "output_type": "execute_result"
    }
   ],
   "source": [
    "np.rad2deg(np.pi/2)"
   ]
  },
  {
   "cell_type": "code",
   "execution_count": null,
   "id": "02f84d71",
   "metadata": {},
   "outputs": [],
   "source": []
  }
 ],
 "metadata": {
  "kernelspec": {
   "display_name": "Python 3",
   "language": "python",
   "name": "python3"
  },
  "language_info": {
   "codemirror_mode": {
    "name": "ipython",
    "version": 3
   },
   "file_extension": ".py",
   "mimetype": "text/x-python",
   "name": "python",
   "nbconvert_exporter": "python",
   "pygments_lexer": "ipython3",
   "version": "3.7.5"
  }
 },
 "nbformat": 4,
 "nbformat_minor": 5
}
