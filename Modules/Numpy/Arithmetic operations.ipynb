{
 "cells": [
  {
   "cell_type": "markdown",
   "id": "52091383",
   "metadata": {},
   "source": [
    "# Arithmetic operations\n",
    "\n",
    "## addition, subtraction, multiplication, division"
   ]
  },
  {
   "cell_type": "markdown",
   "id": "e725cd51",
   "metadata": {},
   "source": [
    "import numpy as np\n",
    "a=np.arange(1,5)\n",
    "b=np.arange(2,6)\n",
    "print(\"array a:\",a)\n",
    "print(\"array b:\",b)\n",
    "\n",
    "#one type\n",
    "print(a*4)\n",
    "\n",
    "#second type\n",
    "print(\"add:\",np.add(a,b))\n",
    "print(\"sub:\",np.subtract(b,a))\n",
    "print(\"mul:\",np.multiply(a,b))\n",
    "print(\"div:\",np.divide(b,a))\n"
   ]
  },
  {
   "cell_type": "code",
   "execution_count": 3,
   "id": "12feac10",
   "metadata": {},
   "outputs": [
    {
     "data": {
      "text/plain": [
       "array([[ 4.,  5.,  6.],\n",
       "       [ 7.,  8.,  9.],\n",
       "       [10., 11., 12.]])"
      ]
     },
     "execution_count": 3,
     "metadata": {},
     "output_type": "execute_result"
    }
   ],
   "source": [
    "c=np.arange(0,9).reshape(3,3)\n",
    "d=np.ones((3,3))\n",
    "d=d+3\n",
    "c+d"
   ]
  },
  {
   "cell_type": "markdown",
   "id": "e234feed",
   "metadata": {},
   "source": [
    "# Functions"
   ]
  },
  {
   "cell_type": "markdown",
   "id": "b4ac062a",
   "metadata": {},
   "source": [
    "## reciprocal() method"
   ]
  },
  {
   "cell_type": "code",
   "execution_count": 8,
   "id": "b8ec5da6",
   "metadata": {},
   "outputs": [
    {
     "data": {
      "text/plain": [
       "array([[0.25, 0.25, 0.25],\n",
       "       [0.25, 0.25, 0.25],\n",
       "       [0.25, 0.25, 0.25]])"
      ]
     },
     "execution_count": 8,
     "metadata": {},
     "output_type": "execute_result"
    }
   ],
   "source": [
    "np.reciprocal(d)"
   ]
  },
  {
   "cell_type": "markdown",
   "id": "4b2e0ee2",
   "metadata": {},
   "source": [
    "## power() method"
   ]
  },
  {
   "cell_type": "code",
   "execution_count": 10,
   "id": "1fb8e081",
   "metadata": {},
   "outputs": [
    {
     "data": {
      "text/plain": [
       "array([ 1,  4,  9, 16], dtype=int32)"
      ]
     },
     "execution_count": 10,
     "metadata": {},
     "output_type": "execute_result"
    }
   ],
   "source": [
    "np.power(a,2)"
   ]
  },
  {
   "cell_type": "markdown",
   "id": "9485d530",
   "metadata": {},
   "source": [
    "## mod() method"
   ]
  },
  {
   "cell_type": "code",
   "execution_count": 11,
   "id": "b1b4dd5a",
   "metadata": {},
   "outputs": [
    {
     "data": {
      "text/plain": [
       "array([[0., 1., 2.],\n",
       "       [3., 0., 1.],\n",
       "       [2., 3., 0.]])"
      ]
     },
     "execution_count": 11,
     "metadata": {},
     "output_type": "execute_result"
    }
   ],
   "source": [
    "np.mod(c,d)"
   ]
  }
 ],
 "metadata": {
  "kernelspec": {
   "display_name": "Python 3",
   "language": "python",
   "name": "python3"
  },
  "language_info": {
   "codemirror_mode": {
    "name": "ipython",
    "version": 3
   },
   "file_extension": ".py",
   "mimetype": "text/x-python",
   "name": "python",
   "nbconvert_exporter": "python",
   "pygments_lexer": "ipython3",
   "version": "3.7.5"
  }
 },
 "nbformat": 4,
 "nbformat_minor": 5
}
